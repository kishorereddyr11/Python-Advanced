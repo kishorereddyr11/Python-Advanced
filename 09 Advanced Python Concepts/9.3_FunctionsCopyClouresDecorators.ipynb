{
 "cells": [
  {
   "cell_type": "markdown",
   "id": "3115ed9c",
   "metadata": {},
   "source": [
    "### Function Copy, Cloures and Decorators\n",
    "Decorators are powerfull and flexible feature in Python that allow you to modify the behaviour of a function or class method. They are commonly used to add functionality to functions or methods without modifying their actual code."
   ]
  },
  {
   "cell_type": "code",
   "execution_count": 12,
   "id": "c4c49d59",
   "metadata": {},
   "outputs": [],
   "source": [
    "## Function Copy\n",
    "def welcome():\n",
    "    return \"Welcome to My home\""
   ]
  },
  {
   "cell_type": "code",
   "execution_count": 14,
   "id": "833839cd",
   "metadata": {},
   "outputs": [
    {
     "name": "stdout",
     "output_type": "stream",
     "text": [
      "Welcome to My home\n",
      "Welcome to My home\n"
     ]
    }
   ],
   "source": [
    "wel = welcome\n",
    "print(wel()) ## We can able to store the function even if the function is deleted\n",
    "del welcome\n",
    "print(wel())"
   ]
  },
  {
   "cell_type": "code",
   "execution_count": 21,
   "id": "f5b4779d",
   "metadata": {},
   "outputs": [],
   "source": [
    "## Closures -> the function inside a function\n",
    "def welcode():\n",
    "    msg = \"Welcode\"\n",
    "    def sub_welcome():\n",
    "        print(\"Welcome to my home\")\n",
    "        print(msg)\n",
    "    return sub_welcome()"
   ]
  },
  {
   "cell_type": "code",
   "execution_count": 22,
   "id": "2940b901",
   "metadata": {},
   "outputs": [
    {
     "name": "stdout",
     "output_type": "stream",
     "text": [
      "Welcome to my home\n",
      "Welcode\n"
     ]
    }
   ],
   "source": [
    "welcode()"
   ]
  },
  {
   "cell_type": "code",
   "execution_count": 23,
   "id": "0375a2b6",
   "metadata": {},
   "outputs": [],
   "source": [
    "## Closures -> the function inside a function\n",
    "def welcode(function):\n",
    "    msg = \"Welcode\"\n",
    "    def sub_welcome():\n",
    "        print(\"Welcome to my home\")\n",
    "        function(\"Hello Every one How are You\")\n",
    "    return sub_welcome()"
   ]
  },
  {
   "cell_type": "code",
   "execution_count": 25,
   "id": "ff33c085",
   "metadata": {},
   "outputs": [
    {
     "name": "stdout",
     "output_type": "stream",
     "text": [
      "Welcome to my home\n",
      "Hello Every one How are You\n"
     ]
    }
   ],
   "source": [
    "welcode(print) ## we passed print inbuit function as argument"
   ]
  },
  {
   "cell_type": "code",
   "execution_count": 32,
   "id": "0022ebee",
   "metadata": {},
   "outputs": [],
   "source": [
    "## Closures -> the function inside a function\n",
    "def welcode(function):\n",
    "    msg = \"Welcode\"\n",
    "    def sub_welcome():\n",
    "        print(\"Welcome to my home\")\n",
    "        print(function(msg))\n",
    "    return sub_welcome()"
   ]
  },
  {
   "cell_type": "code",
   "execution_count": 33,
   "id": "8cc5ebec",
   "metadata": {},
   "outputs": [
    {
     "name": "stdout",
     "output_type": "stream",
     "text": [
      "Welcome to my home\n",
      "7\n"
     ]
    }
   ],
   "source": [
    "welcode(len)"
   ]
  },
  {
   "cell_type": "code",
   "execution_count": 37,
   "id": "1e1a70c1",
   "metadata": {},
   "outputs": [],
   "source": [
    "## Decorator\n",
    "def welcode(function):\n",
    "    msg = \"Welcode\"\n",
    "    def sub_welcome():\n",
    "        print(\"Welcome to my home\")\n",
    "        function()\n",
    "    return sub_welcome()"
   ]
  },
  {
   "cell_type": "code",
   "execution_count": 39,
   "id": "4cc2a575",
   "metadata": {},
   "outputs": [
    {
     "name": "stdout",
     "output_type": "stream",
     "text": [
      "My name is Kishore\n"
     ]
    }
   ],
   "source": [
    "def Kishore():\n",
    "    print(\"My name is Kishore\")\n",
    "Kishore()"
   ]
  },
  {
   "cell_type": "code",
   "execution_count": null,
   "id": "84ec5d2f",
   "metadata": {},
   "outputs": [
    {
     "name": "stdout",
     "output_type": "stream",
     "text": [
      "Welcome to my home\n",
      "My name is Kishore\n"
     ]
    }
   ],
   "source": [
    "welcode(Kishore) ## Without calling like this directly by calling kishore we want to pass into welcode function"
   ]
  },
  {
   "cell_type": "code",
   "execution_count": 43,
   "id": "55a893b5",
   "metadata": {},
   "outputs": [],
   "source": [
    "def welcode(function):\n",
    "    msg = \"Welcode\"\n",
    "    def sub_welcome():\n",
    "        print(\"Welcome to my home\")\n",
    "        function()\n",
    "    return sub_welcome()"
   ]
  },
  {
   "cell_type": "code",
   "execution_count": 47,
   "id": "a8147502",
   "metadata": {},
   "outputs": [
    {
     "name": "stdout",
     "output_type": "stream",
     "text": [
      "Welcome to my home\n",
      "My name is Kishore\n"
     ]
    }
   ],
   "source": [
    "@welcode\n",
    "def Kishore(): # Kishore function will send as a parameter to welcode by using decorators\n",
    "    print(\"My name is Kishore\")"
   ]
  },
  {
   "cell_type": "code",
   "execution_count": 49,
   "id": "ab730b6e",
   "metadata": {},
   "outputs": [],
   "source": [
    "def welcode(function):\n",
    "    msg = \"Welcode\"\n",
    "    def sub_welcome():\n",
    "        print(\"Welcome to my home\")\n",
    "        function()\n",
    "    return sub_welcome"
   ]
  },
  {
   "cell_type": "code",
   "execution_count": 50,
   "id": "e0672567",
   "metadata": {},
   "outputs": [],
   "source": [
    "@welcode\n",
    "def Kishore(): \n",
    "    print(\"My name is Kishore\")"
   ]
  },
  {
   "cell_type": "code",
   "execution_count": 51,
   "id": "9050aac2",
   "metadata": {},
   "outputs": [
    {
     "name": "stdout",
     "output_type": "stream",
     "text": [
      "Welcome to my home\n",
      "My name is Kishore\n"
     ]
    }
   ],
   "source": [
    "Kishore()"
   ]
  }
 ],
 "metadata": {
  "kernelspec": {
   "display_name": "Python 3",
   "language": "python",
   "name": "python3"
  },
  "language_info": {
   "codemirror_mode": {
    "name": "ipython",
    "version": 3
   },
   "file_extension": ".py",
   "mimetype": "text/x-python",
   "name": "python",
   "nbconvert_exporter": "python",
   "pygments_lexer": "ipython3",
   "version": "3.13.5"
  }
 },
 "nbformat": 4,
 "nbformat_minor": 5
}
