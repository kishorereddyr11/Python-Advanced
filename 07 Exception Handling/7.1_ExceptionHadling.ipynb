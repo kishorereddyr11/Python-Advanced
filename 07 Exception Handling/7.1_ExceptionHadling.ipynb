{
 "cells": [
  {
   "cell_type": "markdown",
   "id": "9c0c7fdb",
   "metadata": {},
   "source": [
    "### Exception Handling"
   ]
  },
  {
   "cell_type": "code",
   "execution_count": null,
   "id": "aabcee11",
   "metadata": {},
   "outputs": [
    {
     "ename": "NameError",
     "evalue": "name 'b' is not defined",
     "output_type": "error",
     "traceback": [
      "\u001b[31m---------------------------------------------------------------------------\u001b[39m",
      "\u001b[31mNameError\u001b[39m                                 Traceback (most recent call last)",
      "\u001b[36mCell\u001b[39m\u001b[36m \u001b[39m\u001b[32mIn[1]\u001b[39m\u001b[32m, line 1\u001b[39m\n\u001b[32m----> \u001b[39m\u001b[32m1\u001b[39m a = \u001b[43mb\u001b[49m\n",
      "\u001b[31mNameError\u001b[39m: name 'b' is not defined"
     ]
    }
   ],
   "source": [
    "a = b #NameError"
   ]
  },
  {
   "cell_type": "code",
   "execution_count": 4,
   "id": "8733afc3",
   "metadata": {},
   "outputs": [
    {
     "name": "stdout",
     "output_type": "stream",
     "text": [
      "The Variable Has Not been Assigned\n"
     ]
    }
   ],
   "source": [
    "## Handle Error \n",
    "## try, except block\n",
    "try :\n",
    "    a=b\n",
    "except:\n",
    "    print(\"The Variable Has Not been Assigned\")"
   ]
  },
  {
   "cell_type": "code",
   "execution_count": 5,
   "id": "aa2b67cd",
   "metadata": {},
   "outputs": [
    {
     "name": "stdout",
     "output_type": "stream",
     "text": [
      "name 'b' is not defined\n"
     ]
    }
   ],
   "source": [
    "try :\n",
    "    a=b\n",
    "except NameError as ex:\n",
    "    print(ex)"
   ]
  },
  {
   "cell_type": "code",
   "execution_count": null,
   "id": "cc52ae29",
   "metadata": {},
   "outputs": [
    {
     "ename": "ZeroDivisionError",
     "evalue": "division by zero",
     "output_type": "error",
     "traceback": [
      "\u001b[31m---------------------------------------------------------------------------\u001b[39m",
      "\u001b[31mZeroDivisionError\u001b[39m                         Traceback (most recent call last)",
      "\u001b[36mCell\u001b[39m\u001b[36m \u001b[39m\u001b[32mIn[6]\u001b[39m\u001b[32m, line 1\u001b[39m\n\u001b[32m----> \u001b[39m\u001b[32m1\u001b[39m result = \u001b[32;43m1\u001b[39;49m\u001b[43m/\u001b[49m\u001b[32;43m0\u001b[39;49m\n",
      "\u001b[31mZeroDivisionError\u001b[39m: division by zero"
     ]
    }
   ],
   "source": [
    "result = 1/0 #ZeroDivisionError"
   ]
  },
  {
   "cell_type": "code",
   "execution_count": 8,
   "id": "ba181300",
   "metadata": {},
   "outputs": [
    {
     "name": "stdout",
     "output_type": "stream",
     "text": [
      "division by zero\n",
      "Please enter the denominator grather then zero \n"
     ]
    }
   ],
   "source": [
    "try:\n",
    "    reuslt = 1/0\n",
    "except ZeroDivisionError as zde:\n",
    "    print(zde)\n",
    "    print(\"Please enter the denominator grather then zero \")"
   ]
  },
  {
   "cell_type": "code",
   "execution_count": 10,
   "id": "1acae905",
   "metadata": {},
   "outputs": [
    {
     "name": "stdout",
     "output_type": "stream",
     "text": [
      "0.5\n"
     ]
    }
   ],
   "source": [
    "try:\n",
    "    reuslt = 1/2\n",
    "    print(reuslt)\n",
    "except ZeroDivisionError as zde:\n",
    "    print(zde)\n",
    "    print(\"Please enter the denominator grather then zero \")"
   ]
  },
  {
   "cell_type": "code",
   "execution_count": 12,
   "id": "04a70d41",
   "metadata": {},
   "outputs": [
    {
     "ename": "NameError",
     "evalue": "name 'b' is not defined",
     "output_type": "error",
     "traceback": [
      "\u001b[31m---------------------------------------------------------------------------\u001b[39m",
      "\u001b[31mNameError\u001b[39m                                 Traceback (most recent call last)",
      "\u001b[36mCell\u001b[39m\u001b[36m \u001b[39m\u001b[32mIn[12]\u001b[39m\u001b[32m, line 4\u001b[39m\n\u001b[32m      2\u001b[39m \u001b[38;5;28;01mtry\u001b[39;00m:\n\u001b[32m      3\u001b[39m     reuslt = \u001b[32m1\u001b[39m/\u001b[32m2\u001b[39m\n\u001b[32m----> \u001b[39m\u001b[32m4\u001b[39m     a = \u001b[43mb\u001b[49m\n\u001b[32m      5\u001b[39m \u001b[38;5;28;01mexcept\u001b[39;00m \u001b[38;5;167;01mZeroDivisionError\u001b[39;00m \u001b[38;5;28;01mas\u001b[39;00m zde:\n\u001b[32m      6\u001b[39m     \u001b[38;5;28mprint\u001b[39m(zde)\n",
      "\u001b[31mNameError\u001b[39m: name 'b' is not defined"
     ]
    }
   ],
   "source": [
    "## Two are more Different types of errors in one try block\n",
    "try:\n",
    "    reuslt = 1/2\n",
    "    a = b\n",
    "except ZeroDivisionError as zde:\n",
    "    print(zde)\n",
    "    print(\"Please enter the denominator grather then zero \")"
   ]
  },
  {
   "cell_type": "code",
   "execution_count": 16,
   "id": "ccef151e",
   "metadata": {},
   "outputs": [
    {
     "name": "stdout",
     "output_type": "stream",
     "text": [
      "name 'b' is not defined\n",
      "Main Exception got caught here\n"
     ]
    }
   ],
   "source": [
    "## Two are more Different types of errors in one try block\n",
    "try:\n",
    "    reuslt = 1/2\n",
    "    a = b\n",
    "except ZeroDivisionError as ex1:\n",
    "    print(zde)\n",
    "    print(\"Please enter the denominator grather then zero \")\n",
    "except Exception as ex2:\n",
    "    print(ex2)\n",
    "    print(\"Main Exception got caught here\")"
   ]
  },
  {
   "cell_type": "code",
   "execution_count": 19,
   "id": "89d868c5",
   "metadata": {},
   "outputs": [
    {
     "name": "stdout",
     "output_type": "stream",
     "text": [
      "invalid literal for int() with base 10: 'kishore'\n"
     ]
    }
   ],
   "source": [
    "try :\n",
    "    num = int(input(\"Enter the number : \"))\n",
    "    result = 10/num\n",
    "except ValueError as ex1:\n",
    "    print(ex1)\n",
    "except ZeroDivisionError as ex2:\n",
    "    print(ex2)"
   ]
  },
  {
   "cell_type": "code",
   "execution_count": 20,
   "id": "e72c8830",
   "metadata": {},
   "outputs": [
    {
     "name": "stdout",
     "output_type": "stream",
     "text": [
      "invalid literal for int() with base 10: 'krish'\n"
     ]
    }
   ],
   "source": [
    "try :\n",
    "    num = int(input(\"Enter the number : \"))\n",
    "    result = 10/num\n",
    "    ans = 29/0\n",
    "except Exception as ex:\n",
    "    print(ex)"
   ]
  },
  {
   "cell_type": "code",
   "execution_count": 22,
   "id": "a177a81b",
   "metadata": {},
   "outputs": [
    {
     "name": "stdout",
     "output_type": "stream",
     "text": [
      "division by zero\n"
     ]
    }
   ],
   "source": [
    "## Try, Except, Else Block\n",
    "try:\n",
    "    num = int(input(\"Enter Number \"))\n",
    "    result = 10/num\n",
    "except ValueError as ex1:\n",
    "    print(ex)\n",
    "except ZeroDivisionError as ex2:\n",
    "    print(ex2)\n",
    "except Exception as ex :\n",
    "    print(ex)\n",
    "else:\n",
    "    print(f\"the result is {result}\")"
   ]
  },
  {
   "cell_type": "code",
   "execution_count": 25,
   "id": "2300dab9",
   "metadata": {},
   "outputs": [
    {
     "name": "stdout",
     "output_type": "stream",
     "text": [
      "division by zero\n",
      "Execution Complete.\n"
     ]
    }
   ],
   "source": [
    "\n",
    "## Try, except, else and Finally\n",
    "## else will execute if there is no error in try\n",
    "## finally will execute in all conditions\n",
    "## Try, Except, Else Block\n",
    "try:\n",
    "    num = int(input(\"Enter Number \"))\n",
    "    result = 10/num\n",
    "except ValueError as ex1:\n",
    "    print(ex)\n",
    "except ZeroDivisionError as ex2:\n",
    "    print(ex2)\n",
    "except Exception as ex :\n",
    "    print(ex)\n",
    "else:\n",
    "    print(f\"the result is {result}\")\n",
    "finally:\n",
    "    print(\"Execution Complete.\")"
   ]
  },
  {
   "cell_type": "code",
   "execution_count": 30,
   "id": "4e4fbb6b",
   "metadata": {},
   "outputs": [
    {
     "name": "stdout",
     "output_type": "stream",
     "text": [
      "\n",
      "file closed\n"
     ]
    }
   ],
   "source": [
    "## File Handling and Exception Handling\n",
    "try:\n",
    "    with open(\"example.txt\",\"r\") as file:\n",
    "        content = file.read()\n",
    "        print(content)\n",
    "except FileNotFoundError :\n",
    "    print(\"File Not Found\")\n",
    "except Exception as ex:\n",
    "    print(ex)\n",
    "finally:\n",
    "    if 'file' in locals() or not file.closed():\n",
    "        file.close()\n",
    "        print(\"file closed\")\n"
   ]
  },
  {
   "cell_type": "code",
   "execution_count": null,
   "id": "3253f21e",
   "metadata": {},
   "outputs": [],
   "source": []
  }
 ],
 "metadata": {
  "kernelspec": {
   "display_name": "Python 3",
   "language": "python",
   "name": "python3"
  },
  "language_info": {
   "codemirror_mode": {
    "name": "ipython",
    "version": 3
   },
   "file_extension": ".py",
   "mimetype": "text/x-python",
   "name": "python",
   "nbconvert_exporter": "python",
   "pygments_lexer": "ipython3",
   "version": "3.13.5"
  }
 },
 "nbformat": 4,
 "nbformat_minor": 5
}
