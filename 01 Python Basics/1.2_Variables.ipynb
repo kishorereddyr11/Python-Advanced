{
 "cells": [
  {
   "cell_type": "markdown",
   "id": "b47848c5",
   "metadata": {},
   "source": [
    "### Variables"
   ]
  },
  {
   "cell_type": "code",
   "execution_count": 1,
   "id": "c880b65c",
   "metadata": {},
   "outputs": [],
   "source": [
    "a = 100"
   ]
  },
  {
   "cell_type": "code",
   "execution_count": null,
   "id": "65bfafb4",
   "metadata": {},
   "outputs": [],
   "source": [
    "## Declaring and Assigning Variables\n",
    "name = \"Kishore Reddy\"\n",
    "age = 23\n",
    "height = 5.11"
   ]
  },
  {
   "cell_type": "code",
   "execution_count": 12,
   "id": "ea63c3f1",
   "metadata": {},
   "outputs": [],
   "source": [
    "## Namming Convention\n",
    "## Valid Variables Names\n",
    "first_name = \"Kihsore\"\n",
    "last_name =\"Reddy\""
   ]
  },
  {
   "cell_type": "code",
   "execution_count": 13,
   "id": "2c100890",
   "metadata": {},
   "outputs": [
    {
     "ename": "SyntaxError",
     "evalue": "invalid decimal literal (3947499903.py, line 2)",
     "output_type": "error",
     "traceback": [
      "  \u001b[36mCell\u001b[39m\u001b[36m \u001b[39m\u001b[32mIn[13]\u001b[39m\u001b[32m, line 2\u001b[39m\n\u001b[31m    \u001b[39m\u001b[31m2name= \"Kishore reddy\"\u001b[39m\n    ^\n\u001b[31mSyntaxError\u001b[39m\u001b[31m:\u001b[39m invalid decimal literal\n"
     ]
    }
   ],
   "source": [
    "## Invalid Variable Name\n",
    "2name= \"Kishore reddy\""
   ]
  },
  {
   "cell_type": "code",
   "execution_count": null,
   "id": "d7e7ff94",
   "metadata": {},
   "outputs": [],
   "source": [
    "## Variables Types\n",
    "a = 2 #int\n",
    "b = 2.3 #float\n",
    "c = \"Murugan\" #str"
   ]
  },
  {
   "cell_type": "code",
   "execution_count": 17,
   "id": "0a551513",
   "metadata": {},
   "outputs": [
    {
     "name": "stdout",
     "output_type": "stream",
     "text": [
      "<class 'int'>\n",
      "<class 'float'>\n",
      "<class 'str'>\n"
     ]
    }
   ],
   "source": [
    "## Type checking and conversion\n",
    "a = 34\n",
    "b = 34.334\n",
    "c = \"Murugan\"\n",
    "print(type(a))\n",
    "print(type(b))\n",
    "print(type(c))"
   ]
  },
  {
   "cell_type": "code",
   "execution_count": null,
   "id": "1c6790a4",
   "metadata": {},
   "outputs": [
    {
     "name": "stdout",
     "output_type": "stream",
     "text": [
      "434 <class 'str'>\n"
     ]
    }
   ],
   "source": [
    "## Different types of type conversion\n",
    "## Integer to Stfing\n",
    "a = 434\n",
    "s = str(a)\n",
    "print(s,type(s))"
   ]
  },
  {
   "cell_type": "code",
   "execution_count": null,
   "id": "524234f7",
   "metadata": {},
   "outputs": [
    {
     "name": "stdout",
     "output_type": "stream",
     "text": [
      "3434 <class 'int'>\n"
     ]
    }
   ],
   "source": [
    "## String To Integer\n",
    "s = \"3434\"\n",
    "a = int(s)\n",
    "print(a,type(a))"
   ]
  },
  {
   "cell_type": "code",
   "execution_count": 21,
   "id": "e9c10463",
   "metadata": {},
   "outputs": [
    {
     "ename": "ValueError",
     "evalue": "invalid literal for int() with base 10: 'kihsore'",
     "output_type": "error",
     "traceback": [
      "\u001b[31m---------------------------------------------------------------------------\u001b[39m",
      "\u001b[31mValueError\u001b[39m                                Traceback (most recent call last)",
      "\u001b[36mCell\u001b[39m\u001b[36m \u001b[39m\u001b[32mIn[21]\u001b[39m\u001b[32m, line 3\u001b[39m\n\u001b[32m      1\u001b[39m \u001b[38;5;66;03m## String to Integer where it is not possible\u001b[39;00m\n\u001b[32m      2\u001b[39m s = \u001b[33m\"\u001b[39m\u001b[33mkihsore\u001b[39m\u001b[33m\"\u001b[39m\n\u001b[32m----> \u001b[39m\u001b[32m3\u001b[39m a = \u001b[38;5;28;43mint\u001b[39;49m\u001b[43m(\u001b[49m\u001b[43ms\u001b[49m\u001b[43m)\u001b[49m\n\u001b[32m      4\u001b[39m \u001b[38;5;28mprint\u001b[39m(a,\u001b[38;5;28mtype\u001b[39m(a))\n",
      "\u001b[31mValueError\u001b[39m: invalid literal for int() with base 10: 'kihsore'"
     ]
    }
   ],
   "source": [
    "## String to Integer where it is not possible\n",
    "s = \"kihsore\"\n",
    "a = int(s)\n",
    "print(a,type(a))"
   ]
  },
  {
   "cell_type": "code",
   "execution_count": null,
   "id": "407f6b51",
   "metadata": {},
   "outputs": [
    {
     "name": "stdout",
     "output_type": "stream",
     "text": [
      "3 <class 'int'>\n",
      "3.0 <class 'float'>\n"
     ]
    }
   ],
   "source": [
    "## Float to Integer\n",
    "a = 3.34\n",
    "b = int(a)\n",
    "print(b,type(b)) # b = 3\n",
    "\n",
    "## Integer to float\n",
    "a = float(b)\n",
    "print(a,type(a)) # a = 3.0"
   ]
  },
  {
   "cell_type": "code",
   "execution_count": 24,
   "id": "3dcc2a46",
   "metadata": {},
   "outputs": [
    {
     "name": "stdout",
     "output_type": "stream",
     "text": [
      "3 <class 'int'>\n",
      "3.34 <class 'float'>\n",
      "Kishore <class 'str'>\n"
     ]
    }
   ],
   "source": [
    "## Dynamic Typing\n",
    "var = 3\n",
    "print(var,type(var))\n",
    "var = 3.34\n",
    "print(var,type(var))\n",
    "var = \"Kishore\"\n",
    "print(var,type(var))"
   ]
  },
  {
   "cell_type": "code",
   "execution_count": null,
   "id": "a1e4e97c",
   "metadata": {},
   "outputs": [
    {
     "name": "stdout",
     "output_type": "stream",
     "text": [
      "52 <class 'str'>\n"
     ]
    }
   ],
   "source": [
    "## Input\n",
    "a = input(\"Enter the Value : \") # By default it will take it as str\n",
    "print(a,type(a))"
   ]
  },
  {
   "cell_type": "code",
   "execution_count": null,
   "id": "b7cad352",
   "metadata": {},
   "outputs": [
    {
     "name": "stdout",
     "output_type": "stream",
     "text": [
      "15 <class 'int'>\n"
     ]
    }
   ],
   "source": [
    "## Input\n",
    "a = int(input(\"Enter the Value : \")) # We have to convert str to int while taking input\n",
    "print(a,type(a))"
   ]
  },
  {
   "cell_type": "code",
   "execution_count": null,
   "id": "0fa04cc8",
   "metadata": {},
   "outputs": [
    {
     "name": "stdout",
     "output_type": "stream",
     "text": [
      "addition :  6\n",
      "multiply :  8\n",
      "subtraction :  2\n",
      "division :  2.0\n"
     ]
    }
   ],
   "source": [
    "## Simple Calculator\n",
    "number1 = int(input(\"Enter Number 1 : \"))\n",
    "number2 = int(input(\"Enter Number 2 : \"))\n",
    "\n",
    "addition = number1 + number2\n",
    "multiply = number1 * number2\n",
    "subtraction = number1 - number2\n",
    "division = number1 / number2\n",
    "\n",
    "print(\"addition : \",addition)\n",
    "print(\"multiply : \",multiply)\n",
    "print(\"subtraction : \",subtraction)\n",
    "print(\"division : \",division) # Division always in float"
   ]
  }
 ],
 "metadata": {
  "kernelspec": {
   "display_name": "Python 3",
   "language": "python",
   "name": "python3"
  },
  "language_info": {
   "codemirror_mode": {
    "name": "ipython",
    "version": 3
   },
   "file_extension": ".py",
   "mimetype": "text/x-python",
   "name": "python",
   "nbconvert_exporter": "python",
   "pygments_lexer": "ipython3",
   "version": "3.13.5"
  }
 },
 "nbformat": 4,
 "nbformat_minor": 5
}
