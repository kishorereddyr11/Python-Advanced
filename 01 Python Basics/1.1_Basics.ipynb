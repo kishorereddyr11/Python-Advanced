{
 "cells": [
  {
   "cell_type": "markdown",
   "id": "461bd718",
   "metadata": {},
   "source": [
    "### Syntax and Semantics in Python"
   ]
  },
  {
   "cell_type": "code",
   "execution_count": 30,
   "id": "8eab16bb",
   "metadata": {},
   "outputs": [
    {
     "name": "stdout",
     "output_type": "stream",
     "text": [
      "hello world\n"
     ]
    }
   ],
   "source": [
    "print(\"hello world\")"
   ]
  },
  {
   "cell_type": "code",
   "execution_count": 17,
   "id": "e42be4ff",
   "metadata": {},
   "outputs": [],
   "source": [
    "## sinlge line comments\n",
    "\"\"\" \n",
    "This is multi line comments\n",
    "\"\"\"\n",
    "a = 290"
   ]
  },
  {
   "cell_type": "code",
   "execution_count": 18,
   "id": "1b768672",
   "metadata": {},
   "outputs": [
    {
     "name": "stdout",
     "output_type": "stream",
     "text": [
      "Kishore Reddu\n",
      "Murugan\n"
     ]
    }
   ],
   "source": [
    "## Python is Case sensitive\n",
    "name = \"Kishore Reddu\"\n",
    "Name = \"Murugan\"\n",
    "print(name)\n",
    "print(Name)"
   ]
  },
  {
   "cell_type": "code",
   "execution_count": 22,
   "id": "77efb80e",
   "metadata": {},
   "outputs": [
    {
     "name": "stdout",
     "output_type": "stream",
     "text": [
      "Age is Grater then 20\n",
      "My Age is : 22\n"
     ]
    }
   ],
   "source": [
    "## Indentations\n",
    "age = 22\n",
    "if age>20:\n",
    "    print(\"Age is Grater then 20\")\n",
    "print(f\"My Age is : {age}\")"
   ]
  },
  {
   "cell_type": "code",
   "execution_count": 23,
   "id": "55f726d3",
   "metadata": {},
   "outputs": [
    {
     "name": "stdout",
     "output_type": "stream",
     "text": [
      "55\n"
     ]
    }
   ],
   "source": [
    "## Line Continuation\n",
    "a = 1 + 2 + 3 + 4 + 5 + \\\n",
    "6 + 7 + 8 + 9 + 10\n",
    "print(a)"
   ]
  },
  {
   "cell_type": "code",
   "execution_count": 24,
   "id": "a5fc8c47",
   "metadata": {},
   "outputs": [],
   "source": [
    "## Multiple statements in single line\n",
    "a=23;b=43.34;c=\"Kishore reddy\""
   ]
  },
  {
   "cell_type": "code",
   "execution_count": 25,
   "id": "76cb7def",
   "metadata": {},
   "outputs": [],
   "source": [
    "## Variable Assignment\n",
    "a = 34\n",
    "b = 34.34\n",
    "c = \"Kihsore Reddy\""
   ]
  },
  {
   "cell_type": "code",
   "execution_count": 26,
   "id": "6ca38b5f",
   "metadata": {},
   "outputs": [
    {
     "name": "stdout",
     "output_type": "stream",
     "text": [
      "<class 'int'>\n",
      "<class 'str'>\n"
     ]
    }
   ],
   "source": [
    "## Type Inference\n",
    "a = 34\n",
    "print(type(a))\n",
    "a = \"Kishore Reddy\"\n",
    "print(type(a))"
   ]
  },
  {
   "cell_type": "code",
   "execution_count": 28,
   "id": "1e31cc84",
   "metadata": {},
   "outputs": [
    {
     "ename": "NameError",
     "evalue": "name 'number' is not defined",
     "output_type": "error",
     "traceback": [
      "\u001b[31m---------------------------------------------------------------------------\u001b[39m",
      "\u001b[31mNameError\u001b[39m                                 Traceback (most recent call last)",
      "\u001b[36mCell\u001b[39m\u001b[36m \u001b[39m\u001b[32mIn[28]\u001b[39m\u001b[32m, line 2\u001b[39m\n\u001b[32m      1\u001b[39m \u001b[38;5;66;03m## Name Error\u001b[39;00m\n\u001b[32m----> \u001b[39m\u001b[32m2\u001b[39m age = \u001b[43mnumber\u001b[49m\n",
      "\u001b[31mNameError\u001b[39m: name 'number' is not defined"
     ]
    }
   ],
   "source": [
    "## Name Error\n",
    "age = number"
   ]
  },
  {
   "cell_type": "code",
   "execution_count": 29,
   "id": "105d047a",
   "metadata": {},
   "outputs": [
    {
     "name": "stdout",
     "output_type": "stream",
     "text": [
      "This will Execute 1st\n",
      "This will Execute 2nd\n"
     ]
    }
   ],
   "source": [
    "## Code Example of Indentation\n",
    "if True:\n",
    "    print(\"This will Execute 1st\")\n",
    "    if False:\n",
    "        print(\"This will not Execute\")\n",
    "    print(\"This will Execute 2nd\")"
   ]
  }
 ],
 "metadata": {
  "kernelspec": {
   "display_name": "Python 3",
   "language": "python",
   "name": "python3"
  },
  "language_info": {
   "codemirror_mode": {
    "name": "ipython",
    "version": 3
   },
   "file_extension": ".py",
   "mimetype": "text/x-python",
   "name": "python",
   "nbconvert_exporter": "python",
   "pygments_lexer": "ipython3",
   "version": "3.13.5"
  }
 },
 "nbformat": 4,
 "nbformat_minor": 5
}
