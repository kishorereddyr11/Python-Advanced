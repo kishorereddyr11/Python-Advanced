{
 "cells": [
  {
   "cell_type": "markdown",
   "id": "e8aacfd8",
   "metadata": {},
   "source": [
    "### Operators"
   ]
  },
  {
   "cell_type": "code",
   "execution_count": 6,
   "id": "8fde5eb0",
   "metadata": {},
   "outputs": [
    {
     "name": "stdout",
     "output_type": "stream",
     "text": [
      "16\n",
      "8\n",
      "3.0\n",
      "48\n",
      "3\n",
      "20736\n"
     ]
    }
   ],
   "source": [
    "## Arthematic Operations\n",
    "a = 12\n",
    "b = 4\n",
    "\n",
    "add_res = a+b\n",
    "sub_res = a-b\n",
    "div_res = a/b\n",
    "mul_res = a*b\n",
    "floor_res = a//b\n",
    "exponent_res = a**b\n",
    "\n",
    "print(add_res)\n",
    "print(sub_res)\n",
    "print(div_res)\n",
    "print(mul_res)\n",
    "print(floor_res)\n",
    "print(exponent_res)"
   ]
  },
  {
   "cell_type": "code",
   "execution_count": 7,
   "id": "79be3728",
   "metadata": {},
   "outputs": [
    {
     "data": {
      "text/plain": [
       "2.2"
      ]
     },
     "execution_count": 7,
     "metadata": {},
     "output_type": "execute_result"
    }
   ],
   "source": [
    "## Normal Division\n",
    "11/5"
   ]
  },
  {
   "cell_type": "code",
   "execution_count": 8,
   "id": "383e5574",
   "metadata": {},
   "outputs": [
    {
     "data": {
      "text/plain": [
       "2"
      ]
     },
     "execution_count": 8,
     "metadata": {},
     "output_type": "execute_result"
    }
   ],
   "source": [
    "## Floor Division\n",
    "11//5"
   ]
  },
  {
   "cell_type": "code",
   "execution_count": 10,
   "id": "34b49a29",
   "metadata": {},
   "outputs": [
    {
     "name": "stdout",
     "output_type": "stream",
     "text": [
      "False\n",
      "True\n",
      "False\n",
      "False\n",
      "True\n",
      "True\n"
     ]
    }
   ],
   "source": [
    "## Comparision Operators\n",
    "x = 10\n",
    "y = 12\n",
    "\n",
    "print(x==y)\n",
    "print(x!=y)\n",
    "print(x>y)\n",
    "print(x>=y)\n",
    "print(x<y)\n",
    "print(x<=y)"
   ]
  },
  {
   "cell_type": "code",
   "execution_count": 12,
   "id": "55da0a79",
   "metadata": {},
   "outputs": [
    {
     "name": "stdout",
     "output_type": "stream",
     "text": [
      "False\n",
      "True\n",
      "True\n",
      "True\n"
     ]
    }
   ],
   "source": [
    "## Logical Operators\n",
    "x = True\n",
    "y = False\n",
    "\n",
    "print(x and y)\n",
    "print(x or y)\n",
    "print(x and not y)\n",
    "print(x or not y)"
   ]
  },
  {
   "cell_type": "code",
   "execution_count": null,
   "id": "5d945c28",
   "metadata": {},
   "outputs": [
    {
     "name": "stdout",
     "output_type": "stream",
     "text": [
      "addition :  16\n",
      "multiply :  48\n",
      "subtraction :  8\n",
      "division :  3.0\n",
      "Floor Division :  3\n",
      "Modules :  0\n",
      "Exponent :  20736\n"
     ]
    }
   ],
   "source": [
    "## Simple Calculator\n",
    "number1 = int(input(\"Enter Number 1 : \"))\n",
    "number2 = int(input(\"Enter Number 2 : \"))\n",
    "\n",
    "addition = number1 + number2\n",
    "multiply = number1 * number2\n",
    "subtraction = number1 - number2\n",
    "division = number1 / number2\n",
    "Floor_div = number1//number2\n",
    "modules = number1%number2\n",
    "exponent = number1 ** number2\n",
    "\n",
    "print(\"addition : \",addition)\n",
    "print(\"multiply : \",multiply)\n",
    "print(\"subtraction : \",subtraction)\n",
    "print(\"division : \",division) # Division always in float\n",
    "print(\"Floor Division : \",Floor_div)\n",
    "print(\"Modules : \",modules)\n",
    "print(\"Exponent : \",exponent)"
   ]
  }
 ],
 "metadata": {
  "kernelspec": {
   "display_name": "Python 3",
   "language": "python",
   "name": "python3"
  },
  "language_info": {
   "codemirror_mode": {
    "name": "ipython",
    "version": 3
   },
   "file_extension": ".py",
   "mimetype": "text/x-python",
   "name": "python",
   "nbconvert_exporter": "python",
   "pygments_lexer": "ipython3",
   "version": "3.13.5"
  }
 },
 "nbformat": 4,
 "nbformat_minor": 5
}
