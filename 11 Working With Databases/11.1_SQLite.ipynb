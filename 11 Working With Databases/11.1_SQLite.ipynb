{
 "cells": [
  {
   "cell_type": "markdown",
   "id": "25c59dea",
   "metadata": {},
   "source": [
    "### SQL and SQLite "
   ]
  },
  {
   "cell_type": "code",
   "execution_count": 1,
   "id": "a55b2ba8",
   "metadata": {},
   "outputs": [],
   "source": [
    "import sqlite3"
   ]
  },
  {
   "cell_type": "code",
   "execution_count": 2,
   "id": "598eb422",
   "metadata": {},
   "outputs": [
    {
     "data": {
      "text/plain": [
       "<sqlite3.Connection at 0x2223a0fd030>"
      ]
     },
     "execution_count": 2,
     "metadata": {},
     "output_type": "execute_result"
    }
   ],
   "source": [
    "## connect to an SQLite database\n",
    "connection = sqlite3.connect('example.db')\n",
    "connection"
   ]
  },
  {
   "cell_type": "code",
   "execution_count": 3,
   "id": "7a34930d",
   "metadata": {},
   "outputs": [],
   "source": [
    "cursor = connection.cursor()"
   ]
  },
  {
   "cell_type": "code",
   "execution_count": 5,
   "id": "7a38dc43",
   "metadata": {},
   "outputs": [],
   "source": [
    "## create a table\n",
    "cursor.execute('''\n",
    "Create Table If Not Exists employee(\n",
    "    id Integer Primary Key,\n",
    "    name Text Not Null,\n",
    "    age Ingeger,\n",
    "    department Text\n",
    "    )\n",
    "''')\n",
    "connection.commit()\n"
   ]
  },
  {
   "cell_type": "code",
   "execution_count": 8,
   "id": "d7f8779c",
   "metadata": {},
   "outputs": [],
   "source": [
    "## insert the data in the sqlite table\n",
    "cursor.execute('''\n",
    "insert into employee(name,age,department)\n",
    "values('kishore',23,'Engineer')\n",
    "''')\n",
    "\n",
    "cursor.execute('''\n",
    "insert into employee(name,age,department)\n",
    "values('Murugan',26,'Senior Engineer')\n",
    "''')\n",
    "\n",
    "connection.commit()"
   ]
  },
  {
   "cell_type": "code",
   "execution_count": 10,
   "id": "9ecd7a5d",
   "metadata": {},
   "outputs": [
    {
     "name": "stdout",
     "output_type": "stream",
     "text": [
      "(1, 'kishore', 23, 'Engineer')\n",
      "(2, 'Murugan', 26, 'Senior Engineer')\n"
     ]
    }
   ],
   "source": [
    "cursor.execute('select * from employee')\n",
    "rows = cursor.fetchall()\n",
    "for row in rows:\n",
    "    print(row)"
   ]
  },
  {
   "cell_type": "code",
   "execution_count": 12,
   "id": "5df178b6",
   "metadata": {},
   "outputs": [],
   "source": [
    "## Update the data in the table\n",
    "cursor.execute('''\n",
    "update employee \n",
    "set age=34 where name='kishore'          \n",
    "\n",
    "               ''')\n",
    "connection.commit()"
   ]
  },
  {
   "cell_type": "code",
   "execution_count": 13,
   "id": "08719f06",
   "metadata": {},
   "outputs": [
    {
     "name": "stdout",
     "output_type": "stream",
     "text": [
      "(1, 'kishore', 34, 'Engineer')\n",
      "(2, 'Murugan', 26, 'Senior Engineer')\n"
     ]
    }
   ],
   "source": [
    "cursor.execute('select * from employee')\n",
    "rows = cursor.fetchall()\n",
    "for row in rows:\n",
    "    print(row)"
   ]
  },
  {
   "cell_type": "code",
   "execution_count": 16,
   "id": "e7d04627",
   "metadata": {},
   "outputs": [],
   "source": [
    "## Delete the data from the table\n",
    "cursor.execute('''\n",
    "delete from employee \n",
    "where name='kishore'\n",
    "''')\n",
    "connection.commit()"
   ]
  },
  {
   "cell_type": "code",
   "execution_count": 18,
   "id": "1c8acf0a",
   "metadata": {},
   "outputs": [
    {
     "name": "stdout",
     "output_type": "stream",
     "text": [
      "(2, 'Murugan', 26, 'Senior Engineer')\n"
     ]
    }
   ],
   "source": [
    "cursor.execute('select * from employee')\n",
    "rows = cursor.fetchall()\n",
    "for row in rows:\n",
    "    print(row)"
   ]
  },
  {
   "cell_type": "code",
   "execution_count": 19,
   "id": "2e4209a9",
   "metadata": {},
   "outputs": [],
   "source": [
    "## Close the connection\n",
    "connection.close()"
   ]
  }
 ],
 "metadata": {
  "kernelspec": {
   "display_name": "Python 3",
   "language": "python",
   "name": "python3"
  },
  "language_info": {
   "codemirror_mode": {
    "name": "ipython",
    "version": 3
   },
   "file_extension": ".py",
   "mimetype": "text/x-python",
   "name": "python",
   "nbconvert_exporter": "python",
   "pygments_lexer": "ipython3",
   "version": "3.13.5"
  }
 },
 "nbformat": 4,
 "nbformat_minor": 5
}
