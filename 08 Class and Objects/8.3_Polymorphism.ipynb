{
 "cells": [
  {
   "cell_type": "markdown",
   "id": "d91afa2c",
   "metadata": {},
   "source": [
    "## Polymorphism"
   ]
  },
  {
   "cell_type": "markdown",
   "id": "d395f74b",
   "metadata": {},
   "source": [
    "#### Method Over Riding\n",
    "Method overriding allows a chld class to provide a specific implementation of a method that is already defined in its parent class"
   ]
  },
  {
   "cell_type": "code",
   "execution_count": null,
   "id": "dad1b933",
   "metadata": {},
   "outputs": [
    {
     "name": "stdout",
     "output_type": "stream",
     "text": [
      "Woof!\n",
      "Meow!\n",
      "Woof!\n"
     ]
    }
   ],
   "source": [
    "## Base Calss Animal Class\n",
    "class Animal:\n",
    "    def speak(self):\n",
    "        return \"sound of the animal\"\n",
    "class Dog(Animal):\n",
    "    def speak(slef):\n",
    "        return \"Woof!\"\n",
    "class Cat(Animal):\n",
    "    def speak(self):\n",
    "        return \"Meow!\"\n",
    "\n",
    "## Function that demonstrate Polymorphism\n",
    "def animal_speak(animal):\n",
    "    print(animal.speak())\n",
    "\n",
    "## Creating Object\n",
    "dog = Dog()\n",
    "print(dog.speak())\n",
    "cat = Cat()\n",
    "print(cat.speak())\n",
    "animal_speak(dog)"
   ]
  },
  {
   "cell_type": "code",
   "execution_count": 7,
   "id": "2c6230b4",
   "metadata": {},
   "outputs": [
    {
     "name": "stdout",
     "output_type": "stream",
     "text": [
      "the area is 20\n",
      "the area is 28.259999999999998\n"
     ]
    }
   ],
   "source": [
    "## Polymorphism with functions and methods\n",
    "class Shape:\n",
    "    def area(self):\n",
    "        return \"The area of figure\"\n",
    "class Rectangle(Shape):\n",
    "    def __init__(self,width,height):\n",
    "        self.heigh = height\n",
    "        self.width = width\n",
    "    def area(self):\n",
    "        return self.heigh*self.width\n",
    "class Circle(Shape):\n",
    "    def __init__(self,radius):\n",
    "        self.radius = radius\n",
    "    def area(self):\n",
    "        return 3.14* self.radius * self.radius\n",
    "\n",
    "\n",
    "def print_area(shape):\n",
    "    print(f\"the area is {shape.area()}\")\n",
    "\n",
    "rectangle =Rectangle(4,5)\n",
    "circle = Circle(3)\n",
    "\n",
    "print_area(rectangle)\n",
    "print_area(circle)\n",
    "\n"
   ]
  },
  {
   "cell_type": "code",
   "execution_count": 10,
   "id": "c7f33f8b",
   "metadata": {},
   "outputs": [
    {
     "name": "stdout",
     "output_type": "stream",
     "text": [
      "Car Engine Started\n",
      "MoterCycle Engine Started\n"
     ]
    }
   ],
   "source": [
    "## Polymorphism with abstract base class\n",
    "\n",
    "from abc import ABC, abstractmethod\n",
    "\n",
    "class Vehicle(ABC):\n",
    "    @abstractmethod\n",
    "    def start_engine(self):\n",
    "        pass\n",
    "class Car(Vehicle):\n",
    "    def start_engine(self):\n",
    "        return \"Car Engine Started\"\n",
    "class MotorCycle(Vehicle):\n",
    "    def start_engine(self):\n",
    "        return \"MoterCycle Engine Started\"\n",
    "    \n",
    "def start_vehicle(vehicle):\n",
    "    print(vehicle.start_engine())\n",
    "\n",
    "## create objects of class and motor cycle\n",
    "car =  Car()\n",
    "motorcycle = MotorCycle()\n",
    "start_vehicle(car)\n",
    "start_vehicle(motorcycle)"
   ]
  }
 ],
 "metadata": {
  "kernelspec": {
   "display_name": "Python 3",
   "language": "python",
   "name": "python3"
  },
  "language_info": {
   "codemirror_mode": {
    "name": "ipython",
    "version": 3
   },
   "file_extension": ".py",
   "mimetype": "text/x-python",
   "name": "python",
   "nbconvert_exporter": "python",
   "pygments_lexer": "ipython3",
   "version": "3.13.5"
  }
 },
 "nbformat": 4,
 "nbformat_minor": 5
}
