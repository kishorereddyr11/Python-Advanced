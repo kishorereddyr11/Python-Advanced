{
 "cells": [
  {
   "cell_type": "markdown",
   "id": "cbc2a92d",
   "metadata": {},
   "source": [
    "### Custom exception (Raise and Throw an Exception)"
   ]
  },
  {
   "cell_type": "code",
   "execution_count": 2,
   "id": "ef51b9b5",
   "metadata": {},
   "outputs": [],
   "source": [
    "class Error(Exception):\n",
    "    pass\n",
    "class DobException(Error):\n",
    "    pass"
   ]
  },
  {
   "cell_type": "code",
   "execution_count": 4,
   "id": "5e44d857",
   "metadata": {},
   "outputs": [
    {
     "name": "stdout",
     "output_type": "stream",
     "text": [
      "Sorry!, You are not elegible for exam\n"
     ]
    }
   ],
   "source": [
    "year = int(input(\"Enter Your birth Year\"))\n",
    "age = 2025 - year\n",
    "try:\n",
    "    if age>20 and age<30:\n",
    "        print(\"you are elegible for the exam\")\n",
    "    else:\n",
    "        raise DobException\n",
    "except DobException:\n",
    "    print(\"Sorry!, You are not elegible for exam\")\n"
   ]
  },
  {
   "cell_type": "code",
   "execution_count": null,
   "id": "6a40e3df",
   "metadata": {},
   "outputs": [],
   "source": []
  }
 ],
 "metadata": {
  "kernelspec": {
   "display_name": "Python 3",
   "language": "python",
   "name": "python3"
  },
  "language_info": {
   "codemirror_mode": {
    "name": "ipython",
    "version": 3
   },
   "file_extension": ".py",
   "mimetype": "text/x-python",
   "name": "python",
   "nbconvert_exporter": "python",
   "pygments_lexer": "ipython3",
   "version": "3.13.5"
  }
 },
 "nbformat": 4,
 "nbformat_minor": 5
}
