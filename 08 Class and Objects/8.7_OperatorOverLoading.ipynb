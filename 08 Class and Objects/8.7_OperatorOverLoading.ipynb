{
 "cells": [
  {
   "cell_type": "markdown",
   "id": "9d47909d",
   "metadata": {},
   "source": [
    "### Operator OverLoading"
   ]
  },
  {
   "cell_type": "code",
   "execution_count": 5,
   "id": "dd5c4d8f",
   "metadata": {},
   "outputs": [
    {
     "name": "stdout",
     "output_type": "stream",
     "text": [
      "x:5, y:5\n",
      "x:-1, y:1\n",
      "x:6, y:6\n",
      "x:0.6666666666666666, y:1.5\n",
      "False\n",
      "True\n"
     ]
    }
   ],
   "source": [
    "class Vector:\n",
    "    def __init__(self,x,y):\n",
    "        self.x = x\n",
    "        self.y = y\n",
    "    def __add__(self,other):\n",
    "        return Vector(self.x + other.x , self.y + other.y)\n",
    "    def __sub__(self,other):\n",
    "        return Vector(self.x - other.x , self.y - other.y)\n",
    "    def __mul__(self,other):\n",
    "        return Vector(self.x * other.x , self.y * other.y)\n",
    "    def __truediv__(self,other):\n",
    "        return Vector(self.x / other.x , self.y / other.y)\n",
    "    def __eq__(self,other):\n",
    "        return self.x == other.x and self.y == other.y\n",
    "    def __repr__(self):\n",
    "        return f\"x:{self.x}, y:{self.y}\"\n",
    "v1 = Vector(2,3)\n",
    "v2 = Vector(3,2)\n",
    "v3 = v1+v2\n",
    "v4 = v1-v2\n",
    "v5 = v1*v2\n",
    "v6 = v1/v2\n",
    "v7 = Vector(2,5)\n",
    "v8 = Vector(2,5)\n",
    "z = v1==v2\n",
    "m = v7==v8\n",
    "print(repr(v3))\n",
    "print(repr(v4))\n",
    "print(repr(v5))\n",
    "print(repr(v6))\n",
    "print(z)\n",
    "print(m)\n"
   ]
  }
 ],
 "metadata": {
  "kernelspec": {
   "display_name": "Python 3",
   "language": "python",
   "name": "python3"
  },
  "language_info": {
   "codemirror_mode": {
    "name": "ipython",
    "version": 3
   },
   "file_extension": ".py",
   "mimetype": "text/x-python",
   "name": "python",
   "nbconvert_exporter": "python",
   "pygments_lexer": "ipython3",
   "version": "3.13.5"
  }
 },
 "nbformat": 4,
 "nbformat_minor": 5
}
