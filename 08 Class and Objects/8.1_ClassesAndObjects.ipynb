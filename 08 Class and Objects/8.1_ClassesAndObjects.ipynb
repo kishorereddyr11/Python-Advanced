{
 "cells": [
  {
   "cell_type": "markdown",
   "id": "c511b3b4",
   "metadata": {},
   "source": [
    "### Classes And Objects"
   ]
  },
  {
   "cell_type": "code",
   "execution_count": 5,
   "id": "74d1ec05",
   "metadata": {},
   "outputs": [
    {
     "name": "stdout",
     "output_type": "stream",
     "text": [
      "<class '__main__.Car'>\n"
     ]
    }
   ],
   "source": [
    "## Class is a Blue Print For Creating Objects. Attributes, Methods\n",
    "class Car:\n",
    "    pass\n",
    "audi = Car()\n",
    "bmw = Car()\n",
    "\n",
    "print(type(audi))"
   ]
  },
  {
   "cell_type": "code",
   "execution_count": 6,
   "id": "a793f34e",
   "metadata": {},
   "outputs": [
    {
     "name": "stdout",
     "output_type": "stream",
     "text": [
      "<__main__.Car object at 0x000002028A268440>\n"
     ]
    }
   ],
   "source": [
    "## print object\n",
    "print(audi)"
   ]
  },
  {
   "cell_type": "code",
   "execution_count": null,
   "id": "5b1b91b0",
   "metadata": {},
   "outputs": [
    {
     "name": "stdout",
     "output_type": "stream",
     "text": [
      "Rocky\n",
      "4\n",
      "Buddy\n",
      "1\n"
     ]
    }
   ],
   "source": [
    "## Instance Variables and Methods\n",
    "class Dog():\n",
    "    def __init__(self,name,age):\n",
    "        self.name = name\n",
    "        self.age = age\n",
    "## Initilising Objects\n",
    "dog1 = Dog(\"Rocky\",4)\n",
    "dog2 = Dog(\"Buddy\",1)\n",
    "\n",
    "print(dog1.name)\n",
    "print(dog1.age)\n",
    "\n",
    "print(dog2.name)\n",
    "print(dog2.age)"
   ]
  },
  {
   "cell_type": "code",
   "execution_count": 14,
   "id": "11d5cce9",
   "metadata": {},
   "outputs": [
    {
     "name": "stdout",
     "output_type": "stream",
     "text": [
      "Buddy Says Boow Boow\n",
      "Lucy Says Boow Boow\n"
     ]
    }
   ],
   "source": [
    "class Dog:\n",
    "    def __init__(self,name,age):\n",
    "        self.name = name\n",
    "        self.age = age\n",
    "\n",
    "    def bark(self):\n",
    "        print(f\"{self.name} Says Boow Boow\")\n",
    "\n",
    "dog1 = Dog(\"Buddy\",3)\n",
    "dog2 = Dog(\"Lucy\",2)\n",
    "\n",
    "dog1.bark()\n",
    "dog2.bark()"
   ]
  },
  {
   "cell_type": "code",
   "execution_count": 18,
   "id": "04a5cd80",
   "metadata": {},
   "outputs": [],
   "source": [
    "## Modeling a Bank Account\n",
    "\n",
    "## Creating a Class with instance variables and method\n",
    "class BankAccount:\n",
    "\n",
    "    def __init__(self,owner,balance):\n",
    "        self.owner =owner\n",
    "        self.balance = balance\n",
    "\n",
    "    def Deposit(self,amount):\n",
    "        self.balance += amount\n",
    "        print(f\"{amount} is Deposited, New Balance is {self.balance}\")\n",
    "    \n",
    "    def Withdraw(self,amount):\n",
    "        if amount>self.balance:\n",
    "            print(\"Insufficinet Balance\")\n",
    "        else:\n",
    "            self.balance -= amount\n",
    "            print(f\"{amount} is Withdrawn, New Balance is {self.balance}\")\n",
    "\n",
    "    def get_balance(self):\n",
    "        return self.balance\n",
    "## Creating objects\n",
    "account1 = BankAccount(\"Kishore\",3000)"
   ]
  },
  {
   "cell_type": "code",
   "execution_count": 19,
   "id": "050745a6",
   "metadata": {},
   "outputs": [
    {
     "name": "stdout",
     "output_type": "stream",
     "text": [
      "100 is Deposited, New Balance is 3100\n"
     ]
    }
   ],
   "source": [
    "## Deposit Amount\n",
    "account1.Deposit(100)"
   ]
  },
  {
   "cell_type": "code",
   "execution_count": 20,
   "id": "543cc08a",
   "metadata": {},
   "outputs": [
    {
     "name": "stdout",
     "output_type": "stream",
     "text": [
      "400 is Withdrawn, New Balance is 2700\n"
     ]
    }
   ],
   "source": [
    "## Withdraw Amount\n",
    "account1.Withdraw(400)"
   ]
  },
  {
   "cell_type": "code",
   "execution_count": 21,
   "id": "8acaaabd",
   "metadata": {},
   "outputs": [
    {
     "name": "stdout",
     "output_type": "stream",
     "text": [
      "2700\n"
     ]
    }
   ],
   "source": [
    "## Get Balance\n",
    "print(account1.get_balance())"
   ]
  }
 ],
 "metadata": {
  "kernelspec": {
   "display_name": "Python 3",
   "language": "python",
   "name": "python3"
  },
  "language_info": {
   "codemirror_mode": {
    "name": "ipython",
    "version": 3
   },
   "file_extension": ".py",
   "mimetype": "text/x-python",
   "name": "python",
   "nbconvert_exporter": "python",
   "pygments_lexer": "ipython3",
   "version": "3.13.5"
  }
 },
 "nbformat": 4,
 "nbformat_minor": 5
}
