{
 "cells": [
  {
   "cell_type": "markdown",
   "id": "78c1a338",
   "metadata": {},
   "source": [
    "### Inheritance In Python"
   ]
  },
  {
   "cell_type": "code",
   "execution_count": 1,
   "id": "08e59058",
   "metadata": {},
   "outputs": [],
   "source": [
    "## Inheritance\n",
    "## Parent Class\n",
    "class Car:\n",
    "    def __init__(self,windows,doors,enginetype):\n",
    "        self.windows = windows\n",
    "        self.doors = doors\n",
    "        self.enginetype = enginetype\n",
    "    \n",
    "    def Drive(self):\n",
    "        print(f\"A Person is Driving : {self.enginetype} Car\")"
   ]
  },
  {
   "cell_type": "code",
   "execution_count": null,
   "id": "76bd985d",
   "metadata": {},
   "outputs": [],
   "source": [
    "## Inherited Class (Single Inheretnce)\n",
    "class Tesla(Car):\n",
    "    def __init__(self,windows,doors,enginetype,is_electric):\n",
    "        super().__init__(windows,doors,enginetype)\n",
    "        self.is_electric = is_electric\n",
    "\n",
    "    def selfdriving(self):\n",
    "        print(f\"Tesla support self driving : {self.is_electric}\")"
   ]
  },
  {
   "cell_type": "code",
   "execution_count": 5,
   "id": "88e9c798",
   "metadata": {},
   "outputs": [
    {
     "name": "stdout",
     "output_type": "stream",
     "text": [
      "Tesla support self driving : True\n"
     ]
    }
   ],
   "source": [
    "## Creatig Objects\n",
    "tesla1 = Tesla(6,4,\"Electric\",True)\n",
    "\n",
    "tesla1.selfdriving()"
   ]
  },
  {
   "cell_type": "code",
   "execution_count": null,
   "id": "ed0c688c",
   "metadata": {},
   "outputs": [
    {
     "name": "stdout",
     "output_type": "stream",
     "text": [
      "A Person is Driving : Electric Car\n"
     ]
    }
   ],
   "source": [
    "## Call methods from Parent class\n",
    "tesla1.Drive()"
   ]
  },
  {
   "cell_type": "code",
   "execution_count": null,
   "id": "31a85967",
   "metadata": {},
   "outputs": [
    {
     "name": "stdout",
     "output_type": "stream",
     "text": [
      "6\n",
      "4\n"
     ]
    }
   ],
   "source": [
    "## Printing Varibales from Parent Class\n",
    "print(tesla1.windows)\n",
    "print(tesla1.doors)"
   ]
  },
  {
   "cell_type": "code",
   "execution_count": 10,
   "id": "6532150f",
   "metadata": {},
   "outputs": [],
   "source": [
    "## Multiple Inheritance\n",
    "## When a Class inherits from more then one base class\n",
    "# Base Class One\n",
    "class Animal:\n",
    "    def __init__(self,name):\n",
    "        self.name = name\n",
    "    def speak(slef):\n",
    "        print(\"subclass must implement this method\")\n",
    "# Base Class Two\n",
    "class Pet:\n",
    "    def __init__(self,owner):\n",
    "        self.owner = owner\n",
    "# Derived Class\n",
    "class Dog(Animal,Pet):\n",
    "    def __init__(self,name,owner,age):\n",
    "        Animal.__init__(self,name)\n",
    "        Pet.__init__(self,owner)\n",
    "        self.age = age\n",
    "    def speak(self):\n",
    "        return f\"{self.name} say woof\""
   ]
  },
  {
   "cell_type": "code",
   "execution_count": null,
   "id": "36ecb8b3",
   "metadata": {},
   "outputs": [
    {
     "name": "stdout",
     "output_type": "stream",
     "text": [
      "Buddy Kishore 2\n"
     ]
    }
   ],
   "source": [
    "## Create an object\n",
    "dog = Dog(\"Buddy\",\"Kishore\",2) # Due to Dog class has speak method it gives more prefference to that method then base class method\n",
    "print(dog.speak())\n",
    "print(dog.name,dog.owner,dog.age)"
   ]
  },
  {
   "cell_type": "code",
   "execution_count": null,
   "id": "b0ec8ab6",
   "metadata": {},
   "outputs": [],
   "source": []
  }
 ],
 "metadata": {
  "kernelspec": {
   "display_name": "Python 3",
   "language": "python",
   "name": "python3"
  },
  "language_info": {
   "codemirror_mode": {
    "name": "ipython",
    "version": 3
   },
   "file_extension": ".py",
   "mimetype": "text/x-python",
   "name": "python",
   "nbconvert_exporter": "python",
   "pygments_lexer": "ipython3",
   "version": "3.13.5"
  }
 },
 "nbformat": 4,
 "nbformat_minor": 5
}
