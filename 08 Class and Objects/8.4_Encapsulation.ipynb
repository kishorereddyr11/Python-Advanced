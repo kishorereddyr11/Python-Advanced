{
 "cells": [
  {
   "cell_type": "markdown",
   "id": "181ffbad",
   "metadata": {},
   "source": [
    "### Encapsulation"
   ]
  },
  {
   "cell_type": "code",
   "execution_count": 1,
   "id": "fcfe8fbc",
   "metadata": {},
   "outputs": [
    {
     "data": {
      "text/plain": [
       "'Kishore'"
      ]
     },
     "execution_count": 1,
     "metadata": {},
     "output_type": "execute_result"
    }
   ],
   "source": [
    "## Encapsulation with Getter and setter Mthods\n",
    "## Public Private protected\n",
    "class Person:\n",
    "    def __init__(self,name,age):\n",
    "        self.name = name\n",
    "        self.age = age\n",
    "def get_name(person):\n",
    "    return person.name\n",
    "person = Person(\"Kishore\",23)\n",
    "get_name(person)"
   ]
  },
  {
   "cell_type": "code",
   "execution_count": 3,
   "id": "133637ad",
   "metadata": {},
   "outputs": [
    {
     "data": {
      "text/plain": [
       "['__class__',\n",
       " '__delattr__',\n",
       " '__dict__',\n",
       " '__dir__',\n",
       " '__doc__',\n",
       " '__eq__',\n",
       " '__firstlineno__',\n",
       " '__format__',\n",
       " '__ge__',\n",
       " '__getattribute__',\n",
       " '__getstate__',\n",
       " '__gt__',\n",
       " '__hash__',\n",
       " '__init__',\n",
       " '__init_subclass__',\n",
       " '__le__',\n",
       " '__lt__',\n",
       " '__module__',\n",
       " '__ne__',\n",
       " '__new__',\n",
       " '__reduce__',\n",
       " '__reduce_ex__',\n",
       " '__repr__',\n",
       " '__setattr__',\n",
       " '__sizeof__',\n",
       " '__static_attributes__',\n",
       " '__str__',\n",
       " '__subclasshook__',\n",
       " '__weakref__',\n",
       " 'age',\n",
       " 'name']"
      ]
     },
     "execution_count": 3,
     "metadata": {},
     "output_type": "execute_result"
    }
   ],
   "source": [
    "dir(person)"
   ]
  },
  {
   "cell_type": "code",
   "execution_count": null,
   "id": "873116e4",
   "metadata": {},
   "outputs": [
    {
     "ename": "AttributeError",
     "evalue": "'Person' object has no attribute 'name'",
     "output_type": "error",
     "traceback": [
      "\u001b[31m---------------------------------------------------------------------------\u001b[39m",
      "\u001b[31mAttributeError\u001b[39m                            Traceback (most recent call last)",
      "\u001b[36mCell\u001b[39m\u001b[36m \u001b[39m\u001b[32mIn[6]\u001b[39m\u001b[32m, line 9\u001b[39m\n\u001b[32m      7\u001b[39m     \u001b[38;5;28;01mreturn\u001b[39;00m person.name\n\u001b[32m      8\u001b[39m person = Person(\u001b[33m\"\u001b[39m\u001b[33mKishore\u001b[39m\u001b[33m\"\u001b[39m,\u001b[32m23\u001b[39m)\n\u001b[32m----> \u001b[39m\u001b[32m9\u001b[39m \u001b[43mget_name\u001b[49m\u001b[43m(\u001b[49m\u001b[43mperson\u001b[49m\u001b[43m)\u001b[49m\n",
      "\u001b[36mCell\u001b[39m\u001b[36m \u001b[39m\u001b[32mIn[6]\u001b[39m\u001b[32m, line 7\u001b[39m, in \u001b[36mget_name\u001b[39m\u001b[34m(person)\u001b[39m\n\u001b[32m      6\u001b[39m \u001b[38;5;28;01mdef\u001b[39;00m\u001b[38;5;250m \u001b[39m\u001b[34mget_name\u001b[39m(person):\n\u001b[32m----> \u001b[39m\u001b[32m7\u001b[39m     \u001b[38;5;28;01mreturn\u001b[39;00m \u001b[43mperson\u001b[49m\u001b[43m.\u001b[49m\u001b[43mname\u001b[49m\n",
      "\u001b[31mAttributeError\u001b[39m: 'Person' object has no attribute 'name'"
     ]
    }
   ],
   "source": [
    "class Person:\n",
    "    def __init__(self,name,age):\n",
    "        self.__name = name ## Private Varibale\n",
    "        self.__age = age ## Private Varibale\n",
    "\n",
    "def get_name(person):\n",
    "    return person.name ## because of name is private we cant access\n",
    "person = Person(\"Kishore\",23)\n",
    "get_name(person)"
   ]
  },
  {
   "cell_type": "code",
   "execution_count": 7,
   "id": "26552ecd",
   "metadata": {},
   "outputs": [
    {
     "data": {
      "text/plain": [
       "['_Person__age',\n",
       " '_Person__name',\n",
       " '__class__',\n",
       " '__delattr__',\n",
       " '__dict__',\n",
       " '__dir__',\n",
       " '__doc__',\n",
       " '__eq__',\n",
       " '__firstlineno__',\n",
       " '__format__',\n",
       " '__ge__',\n",
       " '__getattribute__',\n",
       " '__getstate__',\n",
       " '__gt__',\n",
       " '__hash__',\n",
       " '__init__',\n",
       " '__init_subclass__',\n",
       " '__le__',\n",
       " '__lt__',\n",
       " '__module__',\n",
       " '__ne__',\n",
       " '__new__',\n",
       " '__reduce__',\n",
       " '__reduce_ex__',\n",
       " '__repr__',\n",
       " '__setattr__',\n",
       " '__sizeof__',\n",
       " '__static_attributes__',\n",
       " '__str__',\n",
       " '__subclasshook__',\n",
       " '__weakref__']"
      ]
     },
     "execution_count": 7,
     "metadata": {},
     "output_type": "execute_result"
    }
   ],
   "source": [
    "dir(person)"
   ]
  },
  {
   "cell_type": "code",
   "execution_count": 14,
   "id": "baccb55a",
   "metadata": {},
   "outputs": [
    {
     "name": "stdout",
     "output_type": "stream",
     "text": [
      "Kishore\n",
      "Murugan\n"
     ]
    }
   ],
   "source": [
    "## Demonstrating Protected class\n",
    "class Person:\n",
    "    def __init__(self,name,age):\n",
    "        self._name = name ## Protected Variable\n",
    "        self._age = age  ## Protected Variable\n",
    "\n",
    "class Employee(Person):\n",
    "    def __init__(self,name,age):\n",
    "        super().__init__(name,age)\n",
    "\n",
    "def get_name(person):\n",
    "    return person._name\n",
    "\n",
    "employee = Employee(\"Kishore\",23)\n",
    "print(get_name(employee))\n",
    "\n",
    "person = Person(\"Murugan\",23)\n",
    "print(get_name(person))\n"
   ]
  },
  {
   "cell_type": "code",
   "execution_count": 18,
   "id": "8637b835",
   "metadata": {},
   "outputs": [
    {
     "name": "stdout",
     "output_type": "stream",
     "text": [
      "Kishore\n",
      "23\n",
      "Murugan\n"
     ]
    }
   ],
   "source": [
    "## Getter Setter Method\n",
    "class Person:\n",
    "    def __init__(self, name,age,gender):\n",
    "        self.__name = name\n",
    "        self.__age = age\n",
    "        self.__gender = gender\n",
    "\n",
    "    def get_name(self):\n",
    "        return self.__name\n",
    "    def set_name(self,name):\n",
    "        self.__name = name\n",
    "\n",
    "    def get_age(self):\n",
    "        return self.__age\n",
    "    def set_age(self,age):\n",
    "        if age>0:\n",
    "            self.__age = age\n",
    "        else:\n",
    "            print(\"Age can not be negetive\")\n",
    "\n",
    "person = Person(\"Kishore\",23,\"Male\")\n",
    "print(person.get_name())\n",
    "print(person.get_age())\n",
    "\n",
    "person.set_name(\"Murugan\")\n",
    "print(person.get_name())\n",
    "\n",
    "    "
   ]
  }
 ],
 "metadata": {
  "kernelspec": {
   "display_name": "Python 3",
   "language": "python",
   "name": "python3"
  },
  "language_info": {
   "codemirror_mode": {
    "name": "ipython",
    "version": 3
   },
   "file_extension": ".py",
   "mimetype": "text/x-python",
   "name": "python",
   "nbconvert_exporter": "python",
   "pygments_lexer": "ipython3",
   "version": "3.13.5"
  }
 },
 "nbformat": 4,
 "nbformat_minor": 5
}
