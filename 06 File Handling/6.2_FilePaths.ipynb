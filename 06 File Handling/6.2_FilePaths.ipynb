{
 "cells": [
  {
   "cell_type": "markdown",
   "id": "dce198a1",
   "metadata": {},
   "source": [
    "### Working with File Paths"
   ]
  },
  {
   "cell_type": "code",
   "execution_count": 1,
   "id": "cedb7ee5",
   "metadata": {},
   "outputs": [],
   "source": [
    "## create a new directory\n",
    "import os\n",
    "os.mkdir(\"package\")"
   ]
  },
  {
   "cell_type": "code",
   "execution_count": 2,
   "id": "ea5ada21",
   "metadata": {},
   "outputs": [
    {
     "name": "stdout",
     "output_type": "stream",
     "text": [
      "['6.1_FileOperation.ipynb', '6.2_FilePaths.ipynb', 'destination.txt', 'example.bin', 'example.txt', 'package', 'test.txt']\n"
     ]
    }
   ],
   "source": [
    "## Listing Files and Folders\n",
    "items = os.listdir('.')\n",
    "print(items)"
   ]
  },
  {
   "cell_type": "code",
   "execution_count": 6,
   "id": "f5c71972",
   "metadata": {},
   "outputs": [
    {
     "name": "stdout",
     "output_type": "stream",
     "text": [
      "folder\\file.txt\n"
     ]
    }
   ],
   "source": [
    "## Joining Paths\n",
    "dir_name = \"folder\"\n",
    "file_name = \"file.txt\"\n",
    "full_path = os.path.join(dir_name,file_name)\n",
    "print(full_path)"
   ]
  },
  {
   "cell_type": "code",
   "execution_count": 7,
   "id": "0eda6fe0",
   "metadata": {},
   "outputs": [
    {
     "name": "stdout",
     "output_type": "stream",
     "text": [
      "c:\\Users\\kisho\\OneDrive\\Desktop\\Advanced Python\\06 File Handling\\folder\\file.txt\n"
     ]
    }
   ],
   "source": [
    "dir_name = \"folder\"\n",
    "file_name = \"file.txt\"\n",
    "full_path = os.path.join(os.getcwd(),dir_name,file_name)\n",
    "print(full_path)"
   ]
  },
  {
   "cell_type": "code",
   "execution_count": 9,
   "id": "8515d0b5",
   "metadata": {},
   "outputs": [
    {
     "name": "stdout",
     "output_type": "stream",
     "text": [
      "The path example1.txt dose not exists\n"
     ]
    }
   ],
   "source": [
    "path = \"example1.txt\"\n",
    "if os.path.exists(path):\n",
    "    print(f\"The path {path} exists\")\n",
    "else:\n",
    "    print(f\"The path {path} dose not exists\")"
   ]
  },
  {
   "cell_type": "code",
   "execution_count": 10,
   "id": "fb3ab2d9",
   "metadata": {},
   "outputs": [
    {
     "name": "stdout",
     "output_type": "stream",
     "text": [
      "This path example.txt is a file\n"
     ]
    }
   ],
   "source": [
    "## identify the path is file or directory\n",
    "import os\n",
    "\n",
    "path = \"example.txt\"\n",
    "if os.path.isfile(path):\n",
    "    print(f\"This path {path} is a file\")\n",
    "elif os.path.isdir(path):\n",
    "    print(f\"This paht {path} is a directory\")\n",
    "else :\n",
    "    print(f\"This path {path} is neither a path nor a file\")"
   ]
  },
  {
   "cell_type": "code",
   "execution_count": 11,
   "id": "070ade5a",
   "metadata": {},
   "outputs": [
    {
     "name": "stdout",
     "output_type": "stream",
     "text": [
      "c:\\Users\\kisho\\OneDrive\\Desktop\\Advanced Python\\06 File Handling\\example.txt\n"
     ]
    }
   ],
   "source": [
    "## To get absolute path\n",
    "print(os.path.abspath(\"example.txt\"))"
   ]
  }
 ],
 "metadata": {
  "kernelspec": {
   "display_name": "Python 3",
   "language": "python",
   "name": "python3"
  },
  "language_info": {
   "codemirror_mode": {
    "name": "ipython",
    "version": 3
   },
   "file_extension": ".py",
   "mimetype": "text/x-python",
   "name": "python",
   "nbconvert_exporter": "python",
   "pygments_lexer": "ipython3",
   "version": "3.13.5"
  }
 },
 "nbformat": 4,
 "nbformat_minor": 5
}
