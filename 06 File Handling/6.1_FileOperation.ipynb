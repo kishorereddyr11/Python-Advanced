{
 "cells": [
  {
   "cell_type": "markdown",
   "id": "5ba2fb6f",
   "metadata": {},
   "source": [
    "### File Operation - Read and Write Files"
   ]
  },
  {
   "cell_type": "code",
   "execution_count": 2,
   "id": "523b592f",
   "metadata": {},
   "outputs": [
    {
     "name": "stdout",
     "output_type": "stream",
     "text": [
      "hey Iam Kishore Reddy \n",
      "This is example file for learning file operations :)\n"
     ]
    }
   ],
   "source": [
    "## Read A Whole File\n",
    "with open('example.txt',mode = \"r\") as file:\n",
    "    content = file.read()\n",
    "    print(content)"
   ]
  },
  {
   "cell_type": "code",
   "execution_count": 6,
   "id": "f2f67b15",
   "metadata": {},
   "outputs": [
    {
     "name": "stdout",
     "output_type": "stream",
     "text": [
      "hey Iam Kishore Reddy\n",
      "This is example file for learning file operations :)\n"
     ]
    }
   ],
   "source": [
    "## Read Line By line\n",
    "with open(\"example.txt\" ,mode = 'r') as file:\n",
    "    for line in file:\n",
    "        print(line.strip()) # .strip removes the new line character"
   ]
  },
  {
   "cell_type": "code",
   "execution_count": null,
   "id": "99361810",
   "metadata": {},
   "outputs": [],
   "source": [
    "## Writing a file (Over Written)\n",
    "with open(\"example.txt\",mode = \"w\") as file:\n",
    "    file.write(\"Hello World!\\n\")\n",
    "    file.write(\"This is a new line\")"
   ]
  },
  {
   "cell_type": "code",
   "execution_count": 9,
   "id": "3d4e474d",
   "metadata": {},
   "outputs": [],
   "source": [
    "## Write a File with out over writting\n",
    "with open(\"example.txt\",mode = \"a\") as file:\n",
    "    file.write(\"\\nAppen Operation is Taking Place\")"
   ]
  },
  {
   "cell_type": "code",
   "execution_count": 11,
   "id": "3dae0932",
   "metadata": {},
   "outputs": [],
   "source": [
    "## Writing List of Lines\n",
    "lines = [\"First line\\n\",\"Secon Line\\n\",\"Third Line\\n\"]\n",
    "with open(\"example.txt\",\"a\") as file:\n",
    "    file.writelines(lines)"
   ]
  },
  {
   "cell_type": "code",
   "execution_count": 13,
   "id": "a756c9d2",
   "metadata": {},
   "outputs": [],
   "source": [
    "## Binary Files\n",
    "data = b'\\x00\\x01\\x02\\x03\\x04'\n",
    "with open(\"example.bin\",'wb') as file:\n",
    "    file.write(data)"
   ]
  },
  {
   "cell_type": "code",
   "execution_count": 15,
   "id": "9ad719fd",
   "metadata": {},
   "outputs": [
    {
     "name": "stdout",
     "output_type": "stream",
     "text": [
      "b'\\x00\\x01\\x02\\x03\\x04'\n"
     ]
    }
   ],
   "source": [
    "with open(\"example.bin\",'rb') as file:\n",
    "    content = file.read()\n",
    "    print(content)"
   ]
  },
  {
   "cell_type": "code",
   "execution_count": null,
   "id": "f3a5f559",
   "metadata": {},
   "outputs": [],
   "source": [
    "## Read the content from a Source Text file and write to a desination text file\n",
    "with open(\"destination.txt\",\"w\") as file:\n",
    "    file.write(\"example.txt\")"
   ]
  },
  {
   "cell_type": "code",
   "execution_count": 32,
   "id": "c9647f01",
   "metadata": {},
   "outputs": [
    {
     "name": "stdout",
     "output_type": "stream",
     "text": [
      "The Number of Lines in text.txt file is 5\n",
      "The Number of Words in text.txt file is 25\n",
      "The Number of Lines in text.txt file is 62\n"
     ]
    }
   ],
   "source": [
    "## Read the Text in a File and Count The number of line, words and characters\n",
    "with open(\"test.txt\",\"r\") as file:\n",
    "    line = 0\n",
    "    word = 0\n",
    "    for lines in file:\n",
    "        line+=1\n",
    "        lines = lines.split()\n",
    "        word += len(lines)\n",
    "    print(f\"The Number of Lines in text.txt file is {line}\")\n",
    "    print(f\"The Number of Words in text.txt file is {word}\")\n",
    "    print(f\"The Number of Lines in text.txt file is {len(str(file))}\")\n",
    "\n",
    "\n"
   ]
  },
  {
   "cell_type": "markdown",
   "id": "149caa9c",
   "metadata": {},
   "source": [
    "### w+ mode is for both reading and writing if file is not present it will create, if file present the it will truncate the content"
   ]
  },
  {
   "cell_type": "code",
   "execution_count": 34,
   "id": "9639a33f",
   "metadata": {},
   "outputs": [
    {
     "name": "stdout",
     "output_type": "stream",
     "text": [
      "Hello world\n",
      "This is new Line\n",
      "\n"
     ]
    }
   ],
   "source": [
    "## Writing and Then reading the File\n",
    "with open(\"example.txt\",\"w+\") as file: \n",
    "    file.write(\"Hello world\\n\")\n",
    "    file.write(\"This is new Line\\n\")\n",
    "\n",
    "    ## move the file cursor to the beginning\n",
    "    file.seek(0)\n",
    "\n",
    "    ## read the content of the file\n",
    "    content = file.read()\n",
    "    print(content)"
   ]
  }
 ],
 "metadata": {
  "kernelspec": {
   "display_name": "Python 3",
   "language": "python",
   "name": "python3"
  },
  "language_info": {
   "codemirror_mode": {
    "name": "ipython",
    "version": 3
   },
   "file_extension": ".py",
   "mimetype": "text/x-python",
   "name": "python",
   "nbconvert_exporter": "python",
   "pygments_lexer": "ipython3",
   "version": "3.13.5"
  }
 },
 "nbformat": 4,
 "nbformat_minor": 5
}
