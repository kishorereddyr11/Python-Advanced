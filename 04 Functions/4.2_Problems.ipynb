{
 "cells": [
  {
   "cell_type": "markdown",
   "id": "aeba4a7b",
   "metadata": {},
   "source": [
    "#### Problems"
   ]
  },
  {
   "cell_type": "code",
   "execution_count": 7,
   "id": "6b005102",
   "metadata": {},
   "outputs": [
    {
     "name": "stdout",
     "output_type": "stream",
     "text": [
      "77.0\n",
      "25.0\n"
     ]
    }
   ],
   "source": [
    "## Temperature Conversion\n",
    "def convert(temperature,unit):\n",
    "    if unit == 'C':\n",
    "        return temperature * 9/5 +32\n",
    "    elif unit == 'F':\n",
    "        return (temperature - 32) * 5/9\n",
    "    else :\n",
    "        return None\n",
    "print(convert(25,\"C\"))\n",
    "print(convert(77,\"F\"))"
   ]
  },
  {
   "cell_type": "code",
   "execution_count": 9,
   "id": "44fc5a1d",
   "metadata": {},
   "outputs": [
    {
     "name": "stdout",
     "output_type": "stream",
     "text": [
      "True\n",
      "False\n"
     ]
    }
   ],
   "source": [
    "## Password Strength Checker\n",
    "def check(password):\n",
    "    if not any(char.isdigit() for char in password):\n",
    "        return False\n",
    "    if not any(char.islower() for char in password) :\n",
    "        return False\n",
    "    if not any(char.isupper() for char in password) :\n",
    "        return False\n",
    "    if not any(char in \"!@#$%^&*\" for char in password):\n",
    "        return False\n",
    "    return True\n",
    "print(check(\"Murugan09@\"))\n",
    "print(check(\"KishoreReddy\"))"
   ]
  },
  {
   "cell_type": "code",
   "execution_count": 13,
   "id": "3fe37c96",
   "metadata": {},
   "outputs": [
    {
     "data": {
      "text/plain": [
       "34"
      ]
     },
     "execution_count": 13,
     "metadata": {},
     "output_type": "execute_result"
    }
   ],
   "source": [
    "## Calculate the Total Cost of Items in a Shopping Cart\n",
    "def total_cost(cart):\n",
    "    sum = 0\n",
    "    for sets in cart:\n",
    "        sum += sets[\"cost\"]*sets[\"quantity\"]\n",
    "    return sum\n",
    "cart = [\n",
    "    {'name':\"apple\",\"cost\":2,\"quantity\":3},\n",
    "    {'name':\"orange\",\"cost\":4,\"quantity\":4},\n",
    "    {'name':\"orange\",\"cost\":6,\"quantity\":2}\n",
    "]\n",
    "total_cost(cart)"
   ]
  },
  {
   "cell_type": "code",
   "execution_count": 25,
   "id": "8921eb18",
   "metadata": {},
   "outputs": [
    {
     "data": {
      "text/plain": [
       "True"
      ]
     },
     "execution_count": 25,
     "metadata": {},
     "output_type": "execute_result"
    }
   ],
   "source": [
    "## String Palindrome\n",
    "def is_palindrome(string):\n",
    "    new_str = ''.join(char for char in string if char.isalpha())\n",
    "    return new_str.lower()[::-1] == new_str.lower()\n",
    "is_palindrome(\"A man, a plan, a canal: Panama\")"
   ]
  },
  {
   "cell_type": "code",
   "execution_count": 28,
   "id": "515b7913",
   "metadata": {},
   "outputs": [
    {
     "data": {
      "text/plain": [
       "True"
      ]
     },
     "execution_count": 28,
     "metadata": {},
     "output_type": "execute_result"
    }
   ],
   "source": [
    "## String Palindrome Second Method\n",
    "def is_palindrome(string):\n",
    "    string = string.lower().replace(\" \",\"\")\n",
    "    return string[::-1] == string\n",
    "is_palindrome(\"A man a plan a canal Panama\")"
   ]
  },
  {
   "cell_type": "code",
   "execution_count": 29,
   "id": "7e27f85e",
   "metadata": {},
   "outputs": [
    {
     "data": {
      "text/plain": [
       "120"
      ]
     },
     "execution_count": 29,
     "metadata": {},
     "output_type": "execute_result"
    }
   ],
   "source": [
    "## Find a Factorial of a number using Recursion\n",
    "def rec(num):\n",
    "    if num==1:\n",
    "        return 1\n",
    "    return num * rec(num-1)\n",
    "rec(5)"
   ]
  },
  {
   "cell_type": "code",
   "execution_count": null,
   "id": "45dda57f",
   "metadata": {},
   "outputs": [
    {
     "data": {
      "text/plain": [
       "{'vel': 2, 'tech': 1, 'is': 1, 'located': 1, 'in': 1, 'nagar': 1}"
      ]
     },
     "execution_count": 32,
     "metadata": {},
     "output_type": "execute_result"
    }
   ],
   "source": [
    "## Function to Read a File and count the frequency of each word\n",
    "## First with out a file\n",
    "def freq(string):\n",
    "    count = {}\n",
    "    string = string.lower().split()\n",
    "    for word in string:\n",
    "        count[word] = count.get(word,0)+1\n",
    "    return count\n",
    "freq(\"Vel tech is located in vel Nagar\")"
   ]
  },
  {
   "cell_type": "code",
   "execution_count": 33,
   "id": "b098ba6a",
   "metadata": {},
   "outputs": [
    {
     "name": "stdout",
     "output_type": "stream",
     "text": [
      "{'vel': 2, 'tech': 1, 'is': 3, 'located': 1, 'in': 1, 'nager': 1, 'my': 1, 'name': 2, 'kishore': 2, 'and': 1, 'full': 1, 'reddy': 1, 'r': 1}\n"
     ]
    }
   ],
   "source": [
    "## With File\n",
    "def freq(file_path):\n",
    "    count = {}\n",
    "    with open(file_path,'r') as file :\n",
    "        for line in file:\n",
    "            words = line.split()\n",
    "            for word in words:\n",
    "                word = word.lower()\n",
    "                count[word] = count.get(word,0)+1\n",
    "    return count\n",
    "file_path = \"sampleText.txt\"\n",
    "word_freq = freq(file_path)\n",
    "print(word_freq)"
   ]
  },
  {
   "cell_type": "code",
   "execution_count": null,
   "id": "8112330f",
   "metadata": {},
   "outputs": [],
   "source": [
    "## Validate Email Address\n"
   ]
  }
 ],
 "metadata": {
  "kernelspec": {
   "display_name": "Python 3",
   "language": "python",
   "name": "python3"
  },
  "language_info": {
   "codemirror_mode": {
    "name": "ipython",
    "version": 3
   },
   "file_extension": ".py",
   "mimetype": "text/x-python",
   "name": "python",
   "nbconvert_exporter": "python",
   "pygments_lexer": "ipython3",
   "version": "3.13.5"
  }
 },
 "nbformat": 4,
 "nbformat_minor": 5
}
