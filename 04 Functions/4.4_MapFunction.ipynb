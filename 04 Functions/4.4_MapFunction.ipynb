{
 "cells": [
  {
   "cell_type": "markdown",
   "id": "56d42de8",
   "metadata": {},
   "source": [
    "#### Map Function"
   ]
  },
  {
   "cell_type": "code",
   "execution_count": 5,
   "id": "7d6bf0c8",
   "metadata": {},
   "outputs": [
    {
     "name": "stdout",
     "output_type": "stream",
     "text": [
      "[1, 4, 9, 16, 25]\n"
     ]
    }
   ],
   "source": [
    "## Normal Function with Map\n",
    "def square(a):\n",
    "    return a**2\n",
    "numbers = [1,2,3,4,5]\n",
    "lst = list(map(square,numbers))\n",
    "print(lst)\n"
   ]
  },
  {
   "cell_type": "code",
   "execution_count": 6,
   "id": "1aea98c8",
   "metadata": {},
   "outputs": [
    {
     "name": "stdout",
     "output_type": "stream",
     "text": [
      "[1, 4, 9, 16, 25]\n"
     ]
    }
   ],
   "source": [
    "## Lambda Function with Map\n",
    "numbers = [1,2,3,4,5]\n",
    "lst = list(map(lambda x:x**2,numbers))\n",
    "print(lst)"
   ]
  },
  {
   "cell_type": "code",
   "execution_count": 7,
   "id": "8431abaa",
   "metadata": {},
   "outputs": [
    {
     "name": "stdout",
     "output_type": "stream",
     "text": [
      "[5, 7, 9]\n"
     ]
    }
   ],
   "source": [
    "## Map Multiple Iterable\n",
    "lst1 = [1,2,3]\n",
    "lst2 = [4,5,6]\n",
    "lst = list(map(lambda x,y:x+y,lst1,lst2))\n",
    "print(lst)"
   ]
  },
  {
   "cell_type": "code",
   "execution_count": null,
   "id": "ea110e13",
   "metadata": {},
   "outputs": [
    {
     "name": "stdout",
     "output_type": "stream",
     "text": [
      "[<map object at 0x000002085ADB5F00>]\n"
     ]
    }
   ],
   "source": [
    "## map() to convert a list of strings to integers\n",
    "lst = ['1','2','3','4']\n",
    "num_lst = list(map(int,lst))\n",
    "print(num_lst)"
   ]
  },
  {
   "cell_type": "code",
   "execution_count": 14,
   "id": "990d2982",
   "metadata": {},
   "outputs": [
    {
     "name": "stdout",
     "output_type": "stream",
     "text": [
      "['APPLE', 'BANANA', 'ORANGE']\n"
     ]
    }
   ],
   "source": [
    "## map() to make all words to upper case in a List\n",
    "words = [\"apple\",\"banana\",\"orange\"]\n",
    "words = list(map(str.upper,words))\n",
    "print(words)"
   ]
  },
  {
   "cell_type": "code",
   "execution_count": 15,
   "id": "a59177f9",
   "metadata": {},
   "outputs": [
    {
     "name": "stdout",
     "output_type": "stream",
     "text": [
      "['Kishore', 'Murugan']\n"
     ]
    }
   ],
   "source": [
    "## Apply map function on list of dictionary\n",
    "def find_name(student):\n",
    "    return student[\"name\"]\n",
    "student = [\n",
    "    {\"name\":\"Kishore\",\"age\":23,\"height\":5.11},\n",
    "    {\"name\":\"Murugan\",\"age\":53,\"height\":5.32}\n",
    "]\n",
    "lst_names = list(map(find_name,student))\n",
    "print(lst_names)"
   ]
  }
 ],
 "metadata": {
  "kernelspec": {
   "display_name": "Python 3",
   "language": "python",
   "name": "python3"
  },
  "language_info": {
   "codemirror_mode": {
    "name": "ipython",
    "version": 3
   },
   "file_extension": ".py",
   "mimetype": "text/x-python",
   "name": "python",
   "nbconvert_exporter": "python",
   "pygments_lexer": "ipython3",
   "version": "3.13.5"
  }
 },
 "nbformat": 4,
 "nbformat_minor": 5
}
