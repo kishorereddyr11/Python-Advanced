{
 "cells": [
  {
   "cell_type": "markdown",
   "id": "f757a68d",
   "metadata": {},
   "source": [
    "#### Functions"
   ]
  },
  {
   "cell_type": "code",
   "execution_count": null,
   "id": "ff3ec124",
   "metadata": {},
   "outputs": [],
   "source": [
    "## Syntax\n",
    "def function(arguments):\n",
    "    \"\"\"What Function Do\"\"\"\n",
    "    # body of Function\n",
    "    return expression"
   ]
  },
  {
   "cell_type": "code",
   "execution_count": 13,
   "id": "e4a76951",
   "metadata": {},
   "outputs": [
    {
     "name": "stdout",
     "output_type": "stream",
     "text": [
      "Given number is even\n"
     ]
    }
   ],
   "source": [
    " ## Why Functions\n",
    "num = 34\n",
    "if num%2==0:\n",
    "    print(\"Given number is even\")\n",
    "else :\n",
    "    print(\"Given number is Odd\")"
   ]
  },
  {
   "cell_type": "code",
   "execution_count": null,
   "id": "717b532d",
   "metadata": {},
   "outputs": [
    {
     "name": "stdout",
     "output_type": "stream",
     "text": [
      "Given Number is Even\n"
     ]
    }
   ],
   "source": [
    "## Even or Odd Function\n",
    "def even_or_odd(num):\n",
    "    if num%2==0:\n",
    "        print(\"Given Number is Even\")\n",
    "    else :\n",
    "        print(\"Given Number is Odd\")\n",
    "\n"
   ]
  },
  {
   "cell_type": "code",
   "execution_count": 4,
   "id": "1a8fac98",
   "metadata": {},
   "outputs": [
    {
     "name": "stdout",
     "output_type": "stream",
     "text": [
      "Given Number is Odd\n"
     ]
    }
   ],
   "source": [
    "## Call Function\n",
    "even_or_odd(45)"
   ]
  },
  {
   "cell_type": "code",
   "execution_count": 5,
   "id": "ee85e2c4",
   "metadata": {},
   "outputs": [],
   "source": [
    "## Function with Multple Parameter\n",
    "def sum(a,b):\n",
    "    return a+b"
   ]
  },
  {
   "cell_type": "code",
   "execution_count": 6,
   "id": "aa39e99c",
   "metadata": {},
   "outputs": [
    {
     "data": {
      "text/plain": [
       "8"
      ]
     },
     "execution_count": 6,
     "metadata": {},
     "output_type": "execute_result"
    }
   ],
   "source": [
    "sum(3,5)"
   ]
  },
  {
   "cell_type": "code",
   "execution_count": null,
   "id": "f0b2678b",
   "metadata": {},
   "outputs": [],
   "source": [
    "## Default Parameters\n",
    "def greet(name = \"Guest\"):\n",
    "    print(f\"Hello {name} Wellcome to our Home\")"
   ]
  },
  {
   "cell_type": "code",
   "execution_count": 8,
   "id": "ce1382a4",
   "metadata": {},
   "outputs": [
    {
     "name": "stdout",
     "output_type": "stream",
     "text": [
      "Hello Murugan Wellcome to our Home\n"
     ]
    }
   ],
   "source": [
    "greet(\"Murugan\")"
   ]
  },
  {
   "cell_type": "code",
   "execution_count": 9,
   "id": "58d02cf3",
   "metadata": {},
   "outputs": [
    {
     "name": "stdout",
     "output_type": "stream",
     "text": [
      "Hello Guest Wellcome to our Home\n"
     ]
    }
   ],
   "source": [
    "greet()"
   ]
  },
  {
   "cell_type": "code",
   "execution_count": 8,
   "id": "16bf42f7",
   "metadata": {},
   "outputs": [],
   "source": [
    "## Variable length arguments\n",
    "## positional arguments\n",
    "def print_arguments(*args):\n",
    "    for num in args:\n",
    "        print(f\"Positional Argument : {num}\")"
   ]
  },
  {
   "cell_type": "code",
   "execution_count": 11,
   "id": "a9f13c65",
   "metadata": {},
   "outputs": [
    {
     "name": "stdout",
     "output_type": "stream",
     "text": [
      "Positional Argument : 10\n",
      "Positional Argument : 20\n",
      "Positional Argument : 30\n",
      "Positional Argument : Kishore\n",
      "Positional Argument : Murugan\n"
     ]
    }
   ],
   "source": [
    "print_arguments(10, 20, 30, \"Kishore\",\"Murugan\")"
   ]
  },
  {
   "cell_type": "code",
   "execution_count": 12,
   "id": "1fb5d1fc",
   "metadata": {},
   "outputs": [],
   "source": [
    "## keyword arguments\n",
    "def keyword_ars(**kwargs):\n",
    "    for key, value in kwargs.items():\n",
    "        print(f\"{key}:{value}\")"
   ]
  },
  {
   "cell_type": "code",
   "execution_count": 13,
   "id": "1b7e34f6",
   "metadata": {},
   "outputs": [
    {
     "name": "stdout",
     "output_type": "stream",
     "text": [
      "name:Kishore\n",
      "age:23\n",
      "height:5.11\n"
     ]
    }
   ],
   "source": [
    "keyword_ars(name=\"Kishore\", age=23, height=5.11)"
   ]
  },
  {
   "cell_type": "code",
   "execution_count": 14,
   "id": "c371a3cd",
   "metadata": {},
   "outputs": [],
   "source": [
    "## Combination of positional and keyword arguments\n",
    "def print_arguments(*args,**kwargs):\n",
    "    for num in args:\n",
    "        print(f\"Positional Argument : {num}\")\n",
    "    \n",
    "    for key, value in kwargs.items():\n",
    "        print(f\"{key}:{value}\")"
   ]
  },
  {
   "cell_type": "code",
   "execution_count": 15,
   "id": "50321c1e",
   "metadata": {},
   "outputs": [
    {
     "name": "stdout",
     "output_type": "stream",
     "text": [
      "Positional Argument : 10\n",
      "Positional Argument : 20\n",
      "Positional Argument : 30\n",
      "Positional Argument : Kishore\n",
      "Positional Argument : Murugan\n",
      "name:Kishore\n",
      "age:23\n",
      "height:5.11\n"
     ]
    }
   ],
   "source": [
    "print_arguments(10, 20, 30, \"Kishore\",\"Murugan\",name=\"Kishore\", age=23, height=5.11)"
   ]
  },
  {
   "cell_type": "code",
   "execution_count": 17,
   "id": "c3ba9f9b",
   "metadata": {},
   "outputs": [],
   "source": [
    "## Return Statement\n",
    "def sum(a,b):\n",
    "    return a+b"
   ]
  },
  {
   "cell_type": "code",
   "execution_count": 18,
   "id": "5667fd98",
   "metadata": {},
   "outputs": [
    {
     "data": {
      "text/plain": [
       "8"
      ]
     },
     "execution_count": 18,
     "metadata": {},
     "output_type": "execute_result"
    }
   ],
   "source": [
    "sum(3,5)"
   ]
  },
  {
   "cell_type": "code",
   "execution_count": 19,
   "id": "f6ab0cee",
   "metadata": {},
   "outputs": [],
   "source": [
    "## Return Multple Parameters\n",
    "def sum(a,b):\n",
    "    return a+b,12"
   ]
  },
  {
   "cell_type": "code",
   "execution_count": 20,
   "id": "54ace5a2",
   "metadata": {},
   "outputs": [
    {
     "data": {
      "text/plain": [
       "(8, 12)"
      ]
     },
     "execution_count": 20,
     "metadata": {},
     "output_type": "execute_result"
    }
   ],
   "source": [
    "sum(3,5)"
   ]
  }
 ],
 "metadata": {
  "kernelspec": {
   "display_name": "Python 3",
   "language": "python",
   "name": "python3"
  },
  "language_info": {
   "codemirror_mode": {
    "name": "ipython",
    "version": 3
   },
   "file_extension": ".py",
   "mimetype": "text/x-python",
   "name": "python",
   "nbconvert_exporter": "python",
   "pygments_lexer": "ipython3",
   "version": "3.13.5"
  }
 },
 "nbformat": 4,
 "nbformat_minor": 5
}
