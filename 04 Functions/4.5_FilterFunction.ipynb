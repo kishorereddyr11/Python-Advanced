{
 "cells": [
  {
   "cell_type": "markdown",
   "id": "cc6c3a3b",
   "metadata": {},
   "source": [
    "#### Filter Function"
   ]
  },
  {
   "cell_type": "code",
   "execution_count": 5,
   "id": "1cb47587",
   "metadata": {},
   "outputs": [
    {
     "data": {
      "text/plain": [
       "[2, 4, 6]"
      ]
     },
     "execution_count": 5,
     "metadata": {},
     "output_type": "execute_result"
    }
   ],
   "source": [
    "## Filter function with even function example\n",
    "def even(x):\n",
    "    if x%2==0:\n",
    "        return True\n",
    "lst = [1,2,3,4,5,6]\n",
    "list(filter(even,lst))"
   ]
  },
  {
   "cell_type": "code",
   "execution_count": 6,
   "id": "2d9777ce",
   "metadata": {},
   "outputs": [
    {
     "data": {
      "text/plain": [
       "[2, 4, 6, 8, 10]"
      ]
     },
     "execution_count": 6,
     "metadata": {},
     "output_type": "execute_result"
    }
   ],
   "source": [
    "## Filter with Lambda function\n",
    "lst = [1,2,3,4,5,6,7,8,9,10]\n",
    "list(filter(lambda x:x%2==0,lst))"
   ]
  },
  {
   "cell_type": "code",
   "execution_count": 7,
   "id": "c0112855",
   "metadata": {},
   "outputs": [
    {
     "data": {
      "text/plain": [
       "[6, 8, 10]"
      ]
     },
     "execution_count": 7,
     "metadata": {},
     "output_type": "execute_result"
    }
   ],
   "source": [
    "## Filter with lambda function and multiple conditions\n",
    "lst = [1,2,3,4,5,6,7,8,9,10]\n",
    "list(filter(lambda x: x>5 and x%2==0,lst))"
   ]
  },
  {
   "cell_type": "code",
   "execution_count": 12,
   "id": "88da6ba6",
   "metadata": {},
   "outputs": [
    {
     "data": {
      "text/plain": [
       "[{'name': 'Murugan', 'age': 53, 'height': 5.32},\n",
       " {'name': 'Krishna', 'age': 53, 'height': 5.32}]"
      ]
     },
     "execution_count": 12,
     "metadata": {},
     "output_type": "execute_result"
    }
   ],
   "source": [
    "## Apply filter on dictionary to check if age is > 25\n",
    "def student_name(student):\n",
    "    return student[\"age\"]>20\n",
    "student = [\n",
    "    {\"name\":\"Kishore\",\"age\":15,\"height\":5.11},\n",
    "    {\"name\":\"Murugan\",\"age\":53,\"height\":5.32},\n",
    "    {\"name\":\"Krishna\",\"age\":53,\"height\":5.32}\n",
    "]\n",
    "list(filter(student_name,student))"
   ]
  }
 ],
 "metadata": {
  "kernelspec": {
   "display_name": "Python 3",
   "language": "python",
   "name": "python3"
  },
  "language_info": {
   "codemirror_mode": {
    "name": "ipython",
    "version": 3
   },
   "file_extension": ".py",
   "mimetype": "text/x-python",
   "name": "python",
   "nbconvert_exporter": "python",
   "pygments_lexer": "ipython3",
   "version": "3.13.5"
  }
 },
 "nbformat": 4,
 "nbformat_minor": 5
}
