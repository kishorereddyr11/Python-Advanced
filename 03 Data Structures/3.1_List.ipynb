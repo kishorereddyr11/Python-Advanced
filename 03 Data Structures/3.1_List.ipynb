{
 "cells": [
  {
   "cell_type": "markdown",
   "id": "d4a7c674",
   "metadata": {},
   "source": [
    "#### List"
   ]
  },
  {
   "cell_type": "code",
   "execution_count": 25,
   "id": "23883713",
   "metadata": {},
   "outputs": [
    {
     "name": "stdout",
     "output_type": "stream",
     "text": [
      "[1, 2, 3, 4, 5]\n"
     ]
    }
   ],
   "source": [
    "## Define List\n",
    "lst = [1,2,3,4,5]\n",
    "print(lst)"
   ]
  },
  {
   "cell_type": "code",
   "execution_count": 68,
   "id": "d7c601c9",
   "metadata": {},
   "outputs": [
    {
     "name": "stdout",
     "output_type": "stream",
     "text": [
      "<class 'list'>\n"
     ]
    }
   ],
   "source": [
    "## Creating a List\n",
    "lst = list()\n",
    "print(type(lst))"
   ]
  },
  {
   "cell_type": "code",
   "execution_count": 27,
   "id": "2d8cdd69",
   "metadata": {},
   "outputs": [
    {
     "name": "stdout",
     "output_type": "stream",
     "text": [
      "['Kishore', 23, 5.11]\n"
     ]
    }
   ],
   "source": [
    "## Mixed List\n",
    "lst = [\"Kishore\",23,5.11]\n",
    "print(lst)"
   ]
  },
  {
   "cell_type": "code",
   "execution_count": 29,
   "id": "7aa8488d",
   "metadata": {},
   "outputs": [
    {
     "name": "stdout",
     "output_type": "stream",
     "text": [
      "Kishore\n",
      "23\n",
      "5.11\n"
     ]
    }
   ],
   "source": [
    "## Accessing List Elements\n",
    "print(lst[0])\n",
    "print(lst[1])\n",
    "print(lst[2])"
   ]
  },
  {
   "cell_type": "code",
   "execution_count": 42,
   "id": "e1b74430",
   "metadata": {},
   "outputs": [
    {
     "name": "stdout",
     "output_type": "stream",
     "text": [
      "[1, 2, 3, 4, 5, 6, 7, 8, 9, 10]\n",
      "[2, 3, 4, 5, 6, 7, 8, 9, 10]\n",
      "[2, 3, 4, 5]\n",
      "[2, 3, 4, 5, 6]\n",
      "[1, 3, 5, 7, 9]\n",
      "[10, 9, 8, 7, 6, 5, 4, 3, 2, 1]\n",
      "[10, 9, 8, 7, 6, 5, 4, 3, 2]\n",
      "[6, 5, 4, 3, 2]\n"
     ]
    }
   ],
   "source": [
    "## slicing\n",
    "lst = [1,2,3,4,5,6,7,8,9,10]\n",
    "print(lst[:])\n",
    "print(lst[1:])\n",
    "print(lst[1:5])\n",
    "print(lst[1:6:1])\n",
    "print(lst[::2])\n",
    "print(lst[::-1])\n",
    "print(lst[-1:0:-1])\n",
    "print(lst[5:0:-1])"
   ]
  },
  {
   "cell_type": "code",
   "execution_count": 43,
   "id": "4f83056a",
   "metadata": {},
   "outputs": [
    {
     "name": "stdout",
     "output_type": "stream",
     "text": [
      "['apple', 'banana', 'cherry', 'watermelon']\n"
     ]
    }
   ],
   "source": [
    "## Modify the List Element\n",
    "fruit = [\"apple\",\"banana\",\"guva\",\"watermelon\"]\n",
    "fruit[2]=\"cherry\"\n",
    "print(fruit)"
   ]
  },
  {
   "cell_type": "code",
   "execution_count": 44,
   "id": "a95b03ab",
   "metadata": {},
   "outputs": [
    {
     "name": "stdout",
     "output_type": "stream",
     "text": [
      "['w', 'a', 't', 'e', 'r', 'm', 'e', 'l', 'o', 'n']\n"
     ]
    }
   ],
   "source": [
    "## Assigning list to string\n",
    "lst = []\n",
    "lst[:]=\"watermelon\"\n",
    "print(lst)"
   ]
  },
  {
   "cell_type": "code",
   "execution_count": null,
   "id": "87996ac0",
   "metadata": {},
   "outputs": [
    {
     "name": "stdout",
     "output_type": "stream",
     "text": [
      "['apple', 'banana', 'guva', 'watermelon', 'orange']\n"
     ]
    }
   ],
   "source": [
    "## List Methods\n",
    "## Append\n",
    "fruit = [\"apple\",\"banana\",\"guva\",\"watermelon\"]\n",
    "fruit.append(\"orange\")\n",
    "print(fruit)"
   ]
  },
  {
   "cell_type": "code",
   "execution_count": 47,
   "id": "7418be71",
   "metadata": {},
   "outputs": [
    {
     "name": "stdout",
     "output_type": "stream",
     "text": [
      "['apple', 'orange', 'banana', 'guva', 'watermelon']\n"
     ]
    }
   ],
   "source": [
    "# Insert\n",
    "fruit = [\"apple\",\"banana\",\"guva\",\"watermelon\"]\n",
    "fruit.insert(1,\"orange\")\n",
    "print(fruit)"
   ]
  },
  {
   "cell_type": "code",
   "execution_count": null,
   "id": "54088dd1",
   "metadata": {},
   "outputs": [
    {
     "name": "stdout",
     "output_type": "stream",
     "text": [
      "['apple', 'guva', 'watermelon']\n"
     ]
    }
   ],
   "source": [
    "## Remove\n",
    "fruit = [\"apple\",\"banana\",\"guva\",\"watermelon\"]\n",
    "fruit.remove(\"banana\")\n",
    "print(fruit)"
   ]
  },
  {
   "cell_type": "code",
   "execution_count": 50,
   "id": "1e90bd0a",
   "metadata": {},
   "outputs": [
    {
     "name": "stdout",
     "output_type": "stream",
     "text": [
      "['apple', 'banana', 'guva']\n"
     ]
    }
   ],
   "source": [
    "## Remove an Return the last item\n",
    "## Pop\n",
    "fruit = [\"apple\",\"banana\",\"guva\",\"watermelon\"]\n",
    "fruit.pop()\n",
    "print(fruit)"
   ]
  },
  {
   "cell_type": "code",
   "execution_count": 51,
   "id": "77bffa00",
   "metadata": {},
   "outputs": [
    {
     "name": "stdout",
     "output_type": "stream",
     "text": [
      "1\n"
     ]
    }
   ],
   "source": [
    "## Index(int will be output)\n",
    "fruit = [\"apple\",\"banana\",\"guva\",\"watermelon\"]\n",
    "print(fruit.index(\"banana\"))"
   ]
  },
  {
   "cell_type": "code",
   "execution_count": 53,
   "id": "b97cc1e8",
   "metadata": {},
   "outputs": [
    {
     "name": "stdout",
     "output_type": "stream",
     "text": [
      "3\n"
     ]
    }
   ],
   "source": [
    "## Count Function\n",
    "fruit = [\"apple\",\"banana\",\"guva\",\"watermelon\"]\n",
    "fruit.append(\"banana\")\n",
    "fruit.append(\"banana\")\n",
    "print(fruit.count(\"banana\"))"
   ]
  },
  {
   "cell_type": "code",
   "execution_count": 54,
   "id": "ba3105bb",
   "metadata": {},
   "outputs": [
    {
     "name": "stdout",
     "output_type": "stream",
     "text": [
      "[0, 1, 2, 3, 4, 6, 7, 9, 10]\n"
     ]
    }
   ],
   "source": [
    "## Sort\n",
    "lst = [9,3,7,6,4,2,0,10,1]\n",
    "lst.sort()\n",
    "print(lst)"
   ]
  },
  {
   "cell_type": "code",
   "execution_count": 55,
   "id": "25548d52",
   "metadata": {},
   "outputs": [
    {
     "name": "stdout",
     "output_type": "stream",
     "text": [
      "[10, 9, 7, 6, 4, 3, 2, 1, 0]\n"
     ]
    }
   ],
   "source": [
    "## Reverse\n",
    "lst.reverse()\n",
    "print(lst)"
   ]
  },
  {
   "cell_type": "code",
   "execution_count": 56,
   "id": "656002ef",
   "metadata": {},
   "outputs": [
    {
     "name": "stdout",
     "output_type": "stream",
     "text": [
      "[]\n"
     ]
    }
   ],
   "source": [
    "## Clear\n",
    "lst.clear()\n",
    "print(lst)"
   ]
  },
  {
   "cell_type": "code",
   "execution_count": 58,
   "id": "bf91d3e3",
   "metadata": {},
   "outputs": [
    {
     "name": "stdout",
     "output_type": "stream",
     "text": [
      "0\n",
      "1\n",
      "2\n",
      "3\n",
      "4\n",
      "6\n",
      "7\n",
      "9\n",
      "10\n"
     ]
    }
   ],
   "source": [
    "## Iterating over List\n",
    "lst = [0, 1, 2, 3, 4, 6, 7, 9, 10]\n",
    "for num in lst:\n",
    "    print(num)"
   ]
  },
  {
   "cell_type": "code",
   "execution_count": 59,
   "id": "5f592ff8",
   "metadata": {},
   "outputs": [
    {
     "name": "stdout",
     "output_type": "stream",
     "text": [
      "0 0\n",
      "1 1\n",
      "2 2\n",
      "3 3\n",
      "4 4\n",
      "5 6\n",
      "6 7\n",
      "7 9\n",
      "8 10\n"
     ]
    }
   ],
   "source": [
    "## Iterating over List with Index (enumerate)\n",
    "lst = [0, 1, 2, 3, 4, 6, 7, 9, 10]\n",
    "for i,num in enumerate(lst):\n",
    "    print(i,num)"
   ]
  },
  {
   "cell_type": "code",
   "execution_count": 60,
   "id": "c47462c1",
   "metadata": {},
   "outputs": [
    {
     "name": "stdout",
     "output_type": "stream",
     "text": [
      "[0, 1, 4, 9, 16]\n"
     ]
    }
   ],
   "source": [
    "## List Comprehension (operation and iteration and condition)\n",
    "lst = [x**2 for x in range(5)]\n",
    "print(lst)"
   ]
  },
  {
   "cell_type": "code",
   "execution_count": 61,
   "id": "e098e3cb",
   "metadata": {},
   "outputs": [
    {
     "name": "stdout",
     "output_type": "stream",
     "text": [
      "[0, 2, 4]\n"
     ]
    }
   ],
   "source": [
    "lst = [x for x in range(5) if x%2==0]\n",
    "print(lst)"
   ]
  },
  {
   "cell_type": "code",
   "execution_count": 63,
   "id": "3aa7bce1",
   "metadata": {},
   "outputs": [
    {
     "name": "stdout",
     "output_type": "stream",
     "text": [
      "[[1, 1], [1, 2], [1, 3], [2, 1], [2, 2], [2, 3], [3, 1], [3, 2], [3, 3]]\n"
     ]
    }
   ],
   "source": [
    "## Nested List Comprehension\n",
    "lst1 = [1,2,3]\n",
    "lst2 = [1,2,3]\n",
    "lst = [[lst1[i],lst2[j]] for i in range(len(lst1)) for j in range(len(lst2))]\n",
    "print(lst)"
   ]
  },
  {
   "cell_type": "code",
   "execution_count": 65,
   "id": "330af8ad",
   "metadata": {},
   "outputs": [
    {
     "name": "stdout",
     "output_type": "stream",
     "text": [
      "[5, 6, 4, 10]\n"
     ]
    }
   ],
   "source": [
    "## List Comprehension wiht function calls\n",
    "fruit = [\"apple\",\"banana\",\"guva\",\"watermelon\"]\n",
    "length = [len(fruits) for fruits in fruit]\n",
    "print(length)"
   ]
  },
  {
   "cell_type": "code",
   "execution_count": 66,
   "id": "dc6827b0",
   "metadata": {},
   "outputs": [
    {
     "name": "stdout",
     "output_type": "stream",
     "text": [
      "['odd', 'even', 'odd', 'even', 'odd', 'even', 'odd', 'even']\n"
     ]
    }
   ],
   "source": [
    "## List Comprehension with else block\n",
    "lst = [1,2,3,4,5,6,7,8]\n",
    "finder = [\"even\" if lst[i]%2==0 else \"odd\" for i in range(len(lst))]\n",
    "print(finder)"
   ]
  },
  {
   "cell_type": "code",
   "execution_count": 67,
   "id": "65cc313e",
   "metadata": {},
   "outputs": [
    {
     "name": "stdout",
     "output_type": "stream",
     "text": [
      "['low', 'moderate', 'moderate', 'moderate', 'High']\n"
     ]
    }
   ],
   "source": [
    "## List Comprehension with Nested if Else\n",
    "values= [10, 20, 30, 40, 50]\n",
    "effect = [\"low\" if values[i]<20 else \"High\" if values[i]>40 else \"moderate\" for i in range(len(values))]\n",
    "print(effect)"
   ]
  }
 ],
 "metadata": {
  "kernelspec": {
   "display_name": "Python 3",
   "language": "python",
   "name": "python3"
  },
  "language_info": {
   "codemirror_mode": {
    "name": "ipython",
    "version": 3
   },
   "file_extension": ".py",
   "mimetype": "text/x-python",
   "name": "python",
   "nbconvert_exporter": "python",
   "pygments_lexer": "ipython3",
   "version": "3.13.5"
  }
 },
 "nbformat": 4,
 "nbformat_minor": 5
}
