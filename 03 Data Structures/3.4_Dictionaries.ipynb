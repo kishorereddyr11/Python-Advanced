{
 "cells": [
  {
   "cell_type": "markdown",
   "id": "918e1753",
   "metadata": {},
   "source": [
    "#### Dictionaries"
   ]
  },
  {
   "cell_type": "code",
   "execution_count": 12,
   "id": "eb6fe233",
   "metadata": {},
   "outputs": [
    {
     "name": "stdout",
     "output_type": "stream",
     "text": [
      "<class 'dict'>\n"
     ]
    }
   ],
   "source": [
    "## Creating A Dictionaries\n",
    "my_dict = {}\n",
    "print(type(my_dict))"
   ]
  },
  {
   "cell_type": "code",
   "execution_count": 13,
   "id": "6caab9aa",
   "metadata": {},
   "outputs": [
    {
     "name": "stdout",
     "output_type": "stream",
     "text": [
      "<class 'dict'>\n"
     ]
    }
   ],
   "source": [
    "## Creating a Dictionary using class dict\n",
    "my_dict = dict()\n",
    "print(type(my_dict))"
   ]
  },
  {
   "cell_type": "code",
   "execution_count": 14,
   "id": "5ab6ae2d",
   "metadata": {},
   "outputs": [
    {
     "name": "stdout",
     "output_type": "stream",
     "text": [
      "{'name': 'Kishore', 'age': 23, 'height': 5.11}\n"
     ]
    }
   ],
   "source": [
    "## Declaration and Assigning Dictionary\n",
    "my_dict = {\"name\":\"Kishore\",\"age\":23,\"height\":5.11}\n",
    "print(my_dict)"
   ]
  },
  {
   "cell_type": "code",
   "execution_count": 22,
   "id": "38ff2c34",
   "metadata": {},
   "outputs": [
    {
     "name": "stdout",
     "output_type": "stream",
     "text": [
      "{'name': 'Murugan', 'age': 23, 'height': 5.11}\n"
     ]
    }
   ],
   "source": [
    "## Error\n",
    "my_dict = {\"name\":\"Kishore\",\"age\":23,\"height\":5.11,\"name\":\"Murugan\"}\n",
    "print(my_dict)"
   ]
  },
  {
   "cell_type": "code",
   "execution_count": 23,
   "id": "e73f5fac",
   "metadata": {},
   "outputs": [
    {
     "name": "stdout",
     "output_type": "stream",
     "text": [
      "Kishore\n"
     ]
    }
   ],
   "source": [
    "## Accessing Dictionary Elements\n",
    "my_dict = {\"name\":\"Kishore\",\"age\":23,\"height\":5.11}\n",
    "print(my_dict[\"name\"])"
   ]
  },
  {
   "cell_type": "code",
   "execution_count": 25,
   "id": "31949e2c",
   "metadata": {},
   "outputs": [
    {
     "name": "stdout",
     "output_type": "stream",
     "text": [
      "Kishore\n"
     ]
    }
   ],
   "source": [
    "## get()\n",
    "print(my_dict.get(\"name\"))"
   ]
  },
  {
   "cell_type": "code",
   "execution_count": 27,
   "id": "cfedd361",
   "metadata": {},
   "outputs": [
    {
     "name": "stdout",
     "output_type": "stream",
     "text": [
      "None\n",
      "not available\n"
     ]
    }
   ],
   "source": [
    "## if key is Not present\n",
    "print(my_dict.get(\"address\"))\n",
    "print(my_dict.get(\"address\",\"not available\"))"
   ]
  },
  {
   "cell_type": "code",
   "execution_count": 29,
   "id": "7aefe9fe",
   "metadata": {},
   "outputs": [
    {
     "name": "stdout",
     "output_type": "stream",
     "text": [
      "{'name': 'Kishore', 'age': 24, 'height': 5.11}\n"
     ]
    }
   ],
   "source": [
    "## Modifying Dictionary Elements\n",
    "## Modify the value\n",
    "my_dict = {\"name\":\"Kishore\",\"age\":23,\"height\":5.11}\n",
    "my_dict[\"age\"]+=1\n",
    "print(my_dict)"
   ]
  },
  {
   "cell_type": "code",
   "execution_count": 30,
   "id": "ef8c51ff",
   "metadata": {},
   "outputs": [
    {
     "name": "stdout",
     "output_type": "stream",
     "text": [
      "{'name': 'Kishore', 'age': 24, 'height': 5.11, 'address': 'India'}\n"
     ]
    }
   ],
   "source": [
    "## Add the new key and value\n",
    "my_dict[\"address\"]=\"India\"\n",
    "print(my_dict)"
   ]
  },
  {
   "cell_type": "code",
   "execution_count": 31,
   "id": "3d774534",
   "metadata": {},
   "outputs": [
    {
     "name": "stdout",
     "output_type": "stream",
     "text": [
      "{'name': 'Kishore', 'age': 24, 'height': 5.11}\n"
     ]
    }
   ],
   "source": [
    "## Delete the key\n",
    "del my_dict[\"address\"]\n",
    "print(my_dict)"
   ]
  },
  {
   "cell_type": "code",
   "execution_count": 44,
   "id": "9a49d3c8",
   "metadata": {},
   "outputs": [
    {
     "name": "stdout",
     "output_type": "stream",
     "text": [
      "dict_keys(['name', 'age', 'height'])\n"
     ]
    }
   ],
   "source": [
    "## Dictionary Methods\n",
    "## keys()\n",
    "my_dict = {\"name\":\"Kishore\",\"age\":23,\"height\":5.11}\n",
    "print(my_dict.keys())\n"
   ]
  },
  {
   "cell_type": "code",
   "execution_count": 45,
   "id": "772695f7",
   "metadata": {},
   "outputs": [
    {
     "name": "stdout",
     "output_type": "stream",
     "text": [
      "dict_values(['Kishore', 23, 5.11])\n"
     ]
    }
   ],
   "source": [
    "## values()\n",
    "print(my_dict.values())"
   ]
  },
  {
   "cell_type": "code",
   "execution_count": 46,
   "id": "1652a1c1",
   "metadata": {},
   "outputs": [
    {
     "name": "stdout",
     "output_type": "stream",
     "text": [
      "dict_items([('name', 'Kishore'), ('age', 23), ('height', 5.11)])\n"
     ]
    }
   ],
   "source": [
    "## items()\n",
    "print(my_dict.items())"
   ]
  },
  {
   "cell_type": "code",
   "execution_count": 47,
   "id": "93dee0b6",
   "metadata": {},
   "outputs": [
    {
     "name": "stdout",
     "output_type": "stream",
     "text": [
      "{'name': 'Kishore', 'age': 23, 'height': 5.11}\n",
      "{'name': 'Kishore', 'age': 23, 'height': 5.11}\n"
     ]
    }
   ],
   "source": [
    "## Default Deep copy\n",
    "my_dict = {\"name\":\"Kishore\",\"age\":23,\"height\":5.11}\n",
    "copy_dict = my_dict\n",
    "print(my_dict)\n",
    "print(copy_dict)"
   ]
  },
  {
   "cell_type": "code",
   "execution_count": 48,
   "id": "86b1db24",
   "metadata": {},
   "outputs": [
    {
     "name": "stdout",
     "output_type": "stream",
     "text": [
      "{'name': 'Muruga', 'age': 23, 'height': 5.11}\n",
      "{'name': 'Muruga', 'age': 23, 'height': 5.11}\n"
     ]
    }
   ],
   "source": [
    "my_dict[\"name\"] = \"Muruga\"\n",
    "print(my_dict)\n",
    "print(copy_dict)"
   ]
  },
  {
   "cell_type": "code",
   "execution_count": null,
   "id": "29d4789d",
   "metadata": {},
   "outputs": [
    {
     "name": "stdout",
     "output_type": "stream",
     "text": [
      "{'name': 'Kishore', 'age': 23, 'height': 5.11}\n",
      "{'name': 'Kishore', 'age': 23, 'height': 5.11}\n"
     ]
    }
   ],
   "source": [
    "## Shallow Copy\n",
    "## copy()\n",
    "my_dict = {\"name\":\"Kishore\",\"age\":23,\"height\":5.11}\n",
    "copy_dict = my_dict.copy()\n",
    "print(my_dict)\n",
    "print(copy_dict)"
   ]
  },
  {
   "cell_type": "code",
   "execution_count": 51,
   "id": "421d57c8",
   "metadata": {},
   "outputs": [
    {
     "name": "stdout",
     "output_type": "stream",
     "text": [
      "{'name': 'Murugar', 'age': 23, 'height': 5.11}\n",
      "{'name': 'Kishore', 'age': 23, 'height': 5.11}\n"
     ]
    }
   ],
   "source": [
    "my_dict[\"name\"] = \"Murugar\"\n",
    "print(my_dict)\n",
    "print(copy_dict)"
   ]
  },
  {
   "cell_type": "code",
   "execution_count": 53,
   "id": "5cf595a7",
   "metadata": {},
   "outputs": [
    {
     "name": "stdout",
     "output_type": "stream",
     "text": [
      "name age height "
     ]
    }
   ],
   "source": [
    "## Iterating Over Keys\n",
    "my_dict = {\"name\":\"Kishore\",\"age\":23,\"height\":5.11}\n",
    "for key in my_dict.keys():\n",
    "    print(key,end=\" \")"
   ]
  },
  {
   "cell_type": "code",
   "execution_count": 54,
   "id": "cce8d927",
   "metadata": {},
   "outputs": [
    {
     "name": "stdout",
     "output_type": "stream",
     "text": [
      "Kishore 23 5.11 "
     ]
    }
   ],
   "source": [
    "## Iterate Over Values\n",
    "for value in my_dict.values():\n",
    "    print(value,end = \" \")"
   ]
  },
  {
   "cell_type": "code",
   "execution_count": 56,
   "id": "9a5a7d66",
   "metadata": {},
   "outputs": [
    {
     "name": "stdout",
     "output_type": "stream",
     "text": [
      "name : Kishore\n",
      "age : 23\n",
      "height : 5.11\n"
     ]
    }
   ],
   "source": [
    "## Iterate over Key Values Pairs\n",
    "for key,value in my_dict.items():\n",
    "    print(f\"{key} : {value}\")"
   ]
  },
  {
   "cell_type": "code",
   "execution_count": 58,
   "id": "d9cae209",
   "metadata": {},
   "outputs": [
    {
     "name": "stdout",
     "output_type": "stream",
     "text": [
      "{'student1': {'name': 'Kishore', 'age': 23, 'height': 5.11}, 'student2': {'name': 'Murugar', 'age': 6, 'height': 6.0}}\n"
     ]
    }
   ],
   "source": [
    "## Nested Dictionarys\n",
    "my_dict = {\n",
    "    \"student1\" : {\"name\":\"Kishore\",\"age\":23,\"height\":5.11},\n",
    "    \"student2\" : {\"name\":\"Murugar\",\"age\":6,\"height\":6.0}\n",
    "}\n",
    "print(my_dict)"
   ]
  },
  {
   "cell_type": "code",
   "execution_count": 61,
   "id": "efd1dd9f",
   "metadata": {},
   "outputs": [
    {
     "name": "stdout",
     "output_type": "stream",
     "text": [
      "{'name': 'Kishore', 'age': 23, 'height': 5.11}\n",
      "Kishore\n"
     ]
    }
   ],
   "source": [
    "print(my_dict[\"student1\"])\n",
    "print(my_dict[\"student1\"][\"name\"])"
   ]
  },
  {
   "cell_type": "code",
   "execution_count": 68,
   "id": "f80de3a7",
   "metadata": {},
   "outputs": [
    {
     "name": "stdout",
     "output_type": "stream",
     "text": [
      "name : Kishore\n",
      "age : 23\n",
      "height : 5.11\n",
      "\n",
      "name : Murugar\n",
      "age : 6\n",
      "height : 6.0\n",
      "\n"
     ]
    }
   ],
   "source": [
    "## Iterating over Nested Dictionary\n",
    "my_dict = {\n",
    "    \"student1\" : {\"name\":\"Kishore\",\"age\":23,\"height\":5.11},\n",
    "    \"student2\" : {\"name\":\"Murugar\",\"age\":6,\"height\":6.0}\n",
    "}\n",
    "\n",
    "for student_id, student_info in my_dict.items():\n",
    "    for key, value in student_info.items():\n",
    "        print(f\"{key} : {value}\")\n",
    "    print()"
   ]
  },
  {
   "cell_type": "code",
   "execution_count": 69,
   "id": "0f746f58",
   "metadata": {},
   "outputs": [
    {
     "name": "stdout",
     "output_type": "stream",
     "text": [
      "{0: 0, 1: 1, 2: 4, 3: 9, 4: 16}\n"
     ]
    }
   ],
   "source": [
    "## Dictionary Compherhension\n",
    "my_dict = {x:x**2 for x in range(5)}\n",
    "print(my_dict)"
   ]
  },
  {
   "cell_type": "code",
   "execution_count": 70,
   "id": "b76c512e",
   "metadata": {},
   "outputs": [
    {
     "name": "stdout",
     "output_type": "stream",
     "text": [
      "{0: 0, 2: 4, 4: 16, 6: 36, 8: 64}\n"
     ]
    }
   ],
   "source": [
    "## Condition dictionary Compherhension\n",
    "my_dict = {x:x**2 for x in range(10) if x%2==0}\n",
    "print(my_dict)"
   ]
  },
  {
   "cell_type": "code",
   "execution_count": 74,
   "id": "60113354",
   "metadata": {},
   "outputs": [
    {
     "name": "stdout",
     "output_type": "stream",
     "text": [
      "{1: 'Odd', 2: 'Even', 3: 'Odd', 4: 'Even', 5: 'Odd', 6: 'Even', 7: 'Odd', 8: 'Even', 9: 'Odd'}\n"
     ]
    }
   ],
   "source": [
    "my_dict = {x :\"Even\" if x%2==0 else \"Odd\" for x in range(1,10)}\n",
    "print(my_dict)"
   ]
  },
  {
   "cell_type": "code",
   "execution_count": 75,
   "id": "f7be7e24",
   "metadata": {},
   "outputs": [
    {
     "name": "stdout",
     "output_type": "stream",
     "text": [
      "{1: 4, 2: 2, 3: 2, 4: 3, 5: 2, 6: 1}\n"
     ]
    }
   ],
   "source": [
    "## Count the Frequency of element in the list\n",
    "lst = [1,2,3,1,1,2,3,4,1,4,5,6,4,5]\n",
    "freq = {}\n",
    "for i in lst:\n",
    "    if i in freq:\n",
    "        freq[i]+=1\n",
    "    else :\n",
    "        freq[i]=1\n",
    "print(freq)"
   ]
  },
  {
   "cell_type": "code",
   "execution_count": 72,
   "id": "29a73da1",
   "metadata": {},
   "outputs": [
    {
     "name": "stdout",
     "output_type": "stream",
     "text": [
      "{'a': 1, 'b': 2, 'c': 3}\n"
     ]
    }
   ],
   "source": [
    "## Merge 2 dictionarys into one\n",
    "my_dict1 = {\"a\":1,\"b\":2}\n",
    "my_dict2 = {\"b\":2, \"c\":3}\n",
    "merge_dict = {**my_dict1,**my_dict2}\n",
    "print(merge_dict)"
   ]
  }
 ],
 "metadata": {
  "kernelspec": {
   "display_name": "Python 3",
   "language": "python",
   "name": "python3"
  },
  "language_info": {
   "codemirror_mode": {
    "name": "ipython",
    "version": 3
   },
   "file_extension": ".py",
   "mimetype": "text/x-python",
   "name": "python",
   "nbconvert_exporter": "python",
   "pygments_lexer": "ipython3",
   "version": "3.13.5"
  }
 },
 "nbformat": 4,
 "nbformat_minor": 5
}
