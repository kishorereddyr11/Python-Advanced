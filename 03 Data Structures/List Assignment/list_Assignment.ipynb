{
 "cells": [
  {
   "cell_type": "markdown",
   "metadata": {},
   "source": [
    "### Module 3: Data Structures Assignments\n"
   ]
  },
  {
   "cell_type": "markdown",
   "id": "1c69bccb",
   "metadata": {},
   "source": [
    "1: Creating and Accessing Lists\n",
    "\n",
    "Create a list of the first 20 positive integers. Print the list."
   ]
  },
  {
   "cell_type": "code",
   "execution_count": 1,
   "id": "f9b7589f",
   "metadata": {},
   "outputs": [
    {
     "name": "stdout",
     "output_type": "stream",
     "text": [
      "[1, 2, 3, 4, 5, 6, 7, 8, 9, 10, 11, 12, 13, 14, 15, 16, 17, 18, 19, 20]\n"
     ]
    }
   ],
   "source": [
    "# Your code here\n",
    "lst1 = [i for i in range(1,21)]\n",
    "print(lst1)"
   ]
  },
  {
   "cell_type": "markdown",
   "id": "f0641550",
   "metadata": {},
   "source": [
    "2: Accessing List Elements\n",
    "\n",
    "Print the first, middle, and last elements of the list created in Assignment 1."
   ]
  },
  {
   "cell_type": "code",
   "execution_count": 3,
   "id": "4c0c5463",
   "metadata": {},
   "outputs": [
    {
     "name": "stdout",
     "output_type": "stream",
     "text": [
      "First : 1\n",
      "Middle : 10\n",
      "Last : 20\n"
     ]
    }
   ],
   "source": [
    "# Your code here\n",
    "first = 0\n",
    "last = len(lst)-1\n",
    "middle = last//2\n",
    "print(f\"First : {lst[first]}\\nMiddle : {lst[middle]}\\nLast : {lst[last]}\")"
   ]
  },
  {
   "cell_type": "markdown",
   "id": "b2f48d18",
   "metadata": {},
   "source": [
    "3: List Slicing\n",
    "\n",
    "Print the first five elements, the last five elements, and the elements from index 5 to 15 of the list created in Assignment 1."
   ]
  },
  {
   "cell_type": "code",
   "execution_count": 9,
   "id": "a2359e1b",
   "metadata": {},
   "outputs": [
    {
     "name": "stdout",
     "output_type": "stream",
     "text": [
      "[1, 2, 3, 4, 5]\n",
      "[6, 7, 8, 9, 10, 11, 12, 13, 14, 15]\n",
      "[16, 17, 18, 19, 20]\n"
     ]
    }
   ],
   "source": [
    "# Your code here\n",
    "print(lst[:5])\n",
    "print(lst[5:15])\n",
    "print(lst[15:])"
   ]
  },
  {
   "cell_type": "markdown",
   "id": "44f00077",
   "metadata": {},
   "source": [
    "4: List Comprehensions\n",
    "\n",
    "Create a new list containing the squares of the first 10 positive integers using a list comprehension. Print the new list."
   ]
  },
  {
   "cell_type": "code",
   "execution_count": 10,
   "id": "50cfa548",
   "metadata": {},
   "outputs": [
    {
     "name": "stdout",
     "output_type": "stream",
     "text": [
      "[0, 1, 4, 9, 16, 25, 36, 49, 64, 81, 100]\n"
     ]
    }
   ],
   "source": [
    "# Your code here\n",
    "lst = [x**2 for x in range(11)]\n",
    "print(lst)"
   ]
  },
  {
   "cell_type": "markdown",
   "id": "45b8d8d0",
   "metadata": {},
   "source": [
    "5: Filtering Lists\n",
    "\n",
    "Create a new list containing only the even numbers from the list created in Assignment 1 using a list comprehension. Print the new list."
   ]
  },
  {
   "cell_type": "code",
   "execution_count": 2,
   "id": "4e953467",
   "metadata": {},
   "outputs": [
    {
     "name": "stdout",
     "output_type": "stream",
     "text": [
      "2 4 6 8 10 12 14 16 18 20 "
     ]
    }
   ],
   "source": [
    "# Your code here\n",
    "for i in range(len(lst1)):\n",
    "    if lst1[i]%2==0:\n",
    "        print(lst1[i],end=\" \")\n"
   ]
  },
  {
   "cell_type": "markdown",
   "id": "048b3997",
   "metadata": {},
   "source": [
    "6: List Methods\n",
    "\n",
    "Create a list of random numbers and sort it in ascending and descending order. Remove the duplicates from the list and print the modified list."
   ]
  },
  {
   "cell_type": "code",
   "execution_count": 6,
   "id": "b11050dd",
   "metadata": {},
   "outputs": [
    {
     "name": "stdout",
     "output_type": "stream",
     "text": [
      "[1, 2, 4, 6, 7, 8, 9, 83]\n"
     ]
    }
   ],
   "source": [
    "# Your code here\n",
    "lst = [83,2,1,4,7,8,9,6,2,4,2]\n",
    "lst.sort()\n",
    "lst.reverse()\n",
    "lst = list(set(lst))\n",
    "print(lst)"
   ]
  },
  {
   "cell_type": "markdown",
   "id": "5e6e23ed",
   "metadata": {},
   "source": [
    "7: Nested Lists\n",
    "\n",
    "Create a nested list representing a 3x3 matrix and print the matrix. Access and print the element at the second row and third column."
   ]
  },
  {
   "cell_type": "code",
   "execution_count": 7,
   "id": "2482e0c8",
   "metadata": {},
   "outputs": [
    {
     "name": "stdout",
     "output_type": "stream",
     "text": [
      "6\n"
     ]
    }
   ],
   "source": [
    "# Your code here\n",
    "lst = [[1,2,3],[4,5,6],[7,8,9]]\n",
    "print(lst[1][2])"
   ]
  },
  {
   "cell_type": "markdown",
   "id": "432e34eb",
   "metadata": {},
   "source": [
    "8: List of Dictionaries\n",
    "\n",
    "Create a list of dictionaries where each dictionary represents a student with keys 'name' and 'score'. Sort the list of dictionaries by the 'score' in descending order and print the sorted list."
   ]
  },
  {
   "cell_type": "code",
   "execution_count": 14,
   "id": "01f1d250",
   "metadata": {},
   "outputs": [
    {
     "name": "stdout",
     "output_type": "stream",
     "text": [
      "[{'name': 'Ganesh', 'score': 95}, {'name': 'Murugan', 'score': 92}, {'name': 'Krishna', 'score': 88}, {'name': 'Kishore', 'score': 85}, {'name': 'Shiva', 'score': 78}]\n"
     ]
    }
   ],
   "source": [
    "# Your code here\n",
    "students = [\n",
    "    {\"name\": \"Kishore\", \"score\": 85},\n",
    "    {\"name\": \"Murugan\", \"score\": 92},\n",
    "    {\"name\": \"Shiva\", \"score\": 78},\n",
    "    {\"name\": \"Ganesh\", \"score\": 95},\n",
    "    {\"name\": \"Krishna\", \"score\": 88}\n",
    "]\n",
    "\n",
    "sorted_students = sorted(students, key=lambda x: -x[\"score\"])\n",
    "print(sorted_students)"
   ]
  },
  {
   "cell_type": "markdown",
   "id": "3217f505",
   "metadata": {},
   "source": [
    "9: Matrix Transposition\n",
    "\n",
    "Write a function that takes a 3x3 matrix (nested list) as input and returns its transpose. Print the original and transposed matrices."
   ]
  },
  {
   "cell_type": "code",
   "execution_count": 16,
   "id": "d3c5314c",
   "metadata": {},
   "outputs": [
    {
     "name": "stdout",
     "output_type": "stream",
     "text": [
      "[[1, 2, 3], [4, 5, 6], [7, 8, 9]]\n",
      "[[1, 4, 7], [2, 5, 8], [3, 6, 9]]\n"
     ]
    }
   ],
   "source": [
    "# Your code here\n",
    "row = 3\n",
    "col = 3\n",
    "r = [0 for _ in range(col)]\n",
    "matrix = []\n",
    "for i in range(row):\n",
    "    matrix.append(r.copy())\n",
    "for i in range(row):\n",
    "    for j in range(col):\n",
    "        matrix[i][j] = int(input())\n",
    "print(matrix)\n",
    "for i in range(row):\n",
    "    for j in range(i+1,col):\n",
    "        matrix[i][j],matrix[j][i] = matrix[j][i],matrix[i][j]\n",
    "print(matrix)"
   ]
  },
  {
   "cell_type": "markdown",
   "id": "e1837290",
   "metadata": {},
   "source": [
    "10: Flattening a Nested List\n",
    "\n",
    "Write a function that takes a nested list and flattens it into a single list. Print the original and flattened lists.\n"
   ]
  },
  {
   "cell_type": "code",
   "execution_count": 17,
   "id": "6b277b0e",
   "metadata": {},
   "outputs": [
    {
     "name": "stdout",
     "output_type": "stream",
     "text": [
      "[1, 2, 3, 4, 5, 6, 7, 8, 9]\n"
     ]
    }
   ],
   "source": [
    "# Your code here\n",
    "nested_lst = [[1, 2, 3], [4, 5, 6], [7, 8, 9]]\n",
    "flat_lst = []\n",
    "for i in range(len(nested_lst)):\n",
    "    for j in range(len(nested_lst[0])):\n",
    "        flat_lst.append(nested_lst[i][j])\n",
    "print(flat_lst)\n"
   ]
  },
  {
   "cell_type": "markdown",
   "id": "635650a8",
   "metadata": {},
   "source": [
    "11: List Manipulation\n",
    "\n",
    "Create a list of the first 10 positive integers. Remove the elements at indices 2, 4, and 6, and insert the element '99' at index 5. Print the modified list."
   ]
  },
  {
   "cell_type": "code",
   "execution_count": 21,
   "id": "a89c0e64",
   "metadata": {},
   "outputs": [
    {
     "name": "stdout",
     "output_type": "stream",
     "text": [
      "[1, 2, 4, 6, 8, 99, 9, 10]\n"
     ]
    }
   ],
   "source": [
    "# Your code here\n",
    "lst = [1, 2, 3, 4, 5, 6, 7, 8, 9,10]\n",
    "\n",
    "del lst[6]\n",
    "del lst[4]\n",
    "del lst[2]\n",
    "lst.insert(5,99)\n",
    "print(lst)"
   ]
  },
  {
   "cell_type": "markdown",
   "id": "58ada9ec",
   "metadata": {},
   "source": [
    "12: List Zipping\n",
    "\n",
    "Create two lists of the same length. Use the `zip` function to combine these lists into a list of tuples and print the result."
   ]
  },
  {
   "cell_type": "code",
   "execution_count": 22,
   "id": "bda780fa",
   "metadata": {},
   "outputs": [
    {
     "name": "stdout",
     "output_type": "stream",
     "text": [
      "[(1, 'a'), (2, 'b'), (3, 'c'), (4, 'd'), (5, 'e')]\n"
     ]
    }
   ],
   "source": [
    "# Your code here\n",
    "list1 = [1, 2, 3, 4, 5]\n",
    "list2 = ['a', 'b', 'c', 'd', 'e']\n",
    "\n",
    "lst = list(zip(list1,list2))\n",
    "\n",
    "print(lst)"
   ]
  },
  {
   "cell_type": "markdown",
   "id": "d43513f5",
   "metadata": {},
   "source": [
    "13: List Reversal\n",
    "\n",
    "Write a function that takes a list and returns a new list with the elements in reverse order. Print the original and reversed lists."
   ]
  },
  {
   "cell_type": "code",
   "execution_count": 24,
   "id": "89be6e5a",
   "metadata": {},
   "outputs": [
    {
     "name": "stdout",
     "output_type": "stream",
     "text": [
      "[5, 4, 3, 2, 1]\n"
     ]
    }
   ],
   "source": [
    "# Your code here\n",
    "def reverse(lst):\n",
    "    i=0\n",
    "    j=len(lst)-1\n",
    "    while i<j:\n",
    "        lst[i],lst[j]=lst[j],lst[i]\n",
    "        i+=1\n",
    "        j-=1\n",
    "lst = [1, 2, 3, 4, 5]\n",
    "reverse(lst)\n",
    "print(lst)\n"
   ]
  },
  {
   "cell_type": "markdown",
   "id": "d884a4ea",
   "metadata": {},
   "source": [
    "14: List Rotation\n",
    "\n",
    "Write a function that rotates a list by n positions. Print the original and rotated lists."
   ]
  },
  {
   "cell_type": "code",
   "execution_count": 27,
   "id": "337e322a",
   "metadata": {},
   "outputs": [
    {
     "name": "stdout",
     "output_type": "stream",
     "text": [
      "[8, 9, 10, 1, 2, 3, 4, 5, 6, 7]\n"
     ]
    }
   ],
   "source": [
    "# Your code here\n",
    "def reverse(lst,i,j):\n",
    "    while i<j:\n",
    "        lst[i],lst[j]=lst[j],lst[i]\n",
    "        i+=1\n",
    "        j-=1\n",
    "def rotate(lst,n):\n",
    "    n=n%len(lst)\n",
    "    reverse(lst,0,len(lst)-n-1)\n",
    "    reverse(lst,len(lst)-n,len(lst)-1)\n",
    "    reverse(lst,0,len(lst)-1)\n",
    "\n",
    "lst = [1,2,3,4,5,6,7,8,9,10]\n",
    "rotate(lst,3)\n",
    "print(lst)\n"
   ]
  },
  {
   "cell_type": "markdown",
   "id": "10aebf6a",
   "metadata": {},
   "source": [
    "15: List Intersection\n",
    "\n",
    "Write a function that takes two lists and returns a new list containing only the elements that are present in both lists. Print the intersected list."
   ]
  },
  {
   "cell_type": "code",
   "execution_count": 28,
   "id": "e96571fb",
   "metadata": {},
   "outputs": [
    {
     "name": "stdout",
     "output_type": "stream",
     "text": [
      "[3, 5]\n"
     ]
    }
   ],
   "source": [
    "# Your code here\n",
    "lst1 = [1,3,4,5]\n",
    "lst2 = [3,5,2,5]\n",
    "\n",
    "new_lst = list(set(lst1)&set(lst2))\n",
    "print(new_lst)"
   ]
  }
 ],
 "metadata": {
  "kernelspec": {
   "display_name": "Python 3",
   "language": "python",
   "name": "python3"
  },
  "language_info": {
   "codemirror_mode": {
    "name": "ipython",
    "version": 3
   },
   "file_extension": ".py",
   "mimetype": "text/x-python",
   "name": "python",
   "nbconvert_exporter": "python",
   "pygments_lexer": "ipython3",
   "version": "3.13.5"
  }
 },
 "nbformat": 4,
 "nbformat_minor": 5
}
