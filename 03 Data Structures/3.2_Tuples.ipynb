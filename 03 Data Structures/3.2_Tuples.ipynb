{
 "cells": [
  {
   "cell_type": "markdown",
   "id": "42029fcf",
   "metadata": {},
   "source": [
    "#### Tuples"
   ]
  },
  {
   "cell_type": "code",
   "execution_count": null,
   "id": "049b6309",
   "metadata": {},
   "outputs": [
    {
     "name": "stdout",
     "output_type": "stream",
     "text": [
      "<class 'tuple'>\n"
     ]
    }
   ],
   "source": [
    "## Creating Tuple\n",
    "tpl = ()\n",
    "print(type(tpl))"
   ]
  },
  {
   "cell_type": "code",
   "execution_count": 20,
   "id": "2eaf9311",
   "metadata": {},
   "outputs": [
    {
     "name": "stdout",
     "output_type": "stream",
     "text": [
      "<class 'tuple'>\n"
     ]
    }
   ],
   "source": [
    "## Creating Tuple using Function\n",
    "tpl = tuple()\n",
    "print(type(tpl))"
   ]
  },
  {
   "cell_type": "code",
   "execution_count": 21,
   "id": "1e03f8ca",
   "metadata": {},
   "outputs": [
    {
     "name": "stdout",
     "output_type": "stream",
     "text": [
      "(1, 2, 3, 4, 5)\n"
     ]
    }
   ],
   "source": [
    "## Declaring and Assigning Tuple\n",
    "tpl = (1,2,3,4,5)\n",
    "print(tpl)"
   ]
  },
  {
   "cell_type": "code",
   "execution_count": 22,
   "id": "f0a0772e",
   "metadata": {},
   "outputs": [
    {
     "name": "stdout",
     "output_type": "stream",
     "text": [
      "('Kishore', 23, 5.11)\n"
     ]
    }
   ],
   "source": [
    "## Mixed Tuples\n",
    "tpl = (\"Kishore\",23,5.11)\n",
    "print(tpl)"
   ]
  },
  {
   "cell_type": "code",
   "execution_count": 23,
   "id": "a91d6e1c",
   "metadata": {},
   "outputs": [
    {
     "name": "stdout",
     "output_type": "stream",
     "text": [
      "2\n"
     ]
    }
   ],
   "source": [
    "## Accessing Tuple Elements\n",
    "tpl = (1,2,3,4,5)\n",
    "print(tpl[1])"
   ]
  },
  {
   "cell_type": "code",
   "execution_count": 24,
   "id": "60d479f7",
   "metadata": {},
   "outputs": [
    {
     "name": "stdout",
     "output_type": "stream",
     "text": [
      "(1, 2, 3, 4)\n"
     ]
    }
   ],
   "source": [
    "## Slicing in tuples\n",
    "tpl = (1,2,3,4,5)\n",
    "print(tpl[:4])"
   ]
  },
  {
   "cell_type": "code",
   "execution_count": 25,
   "id": "e0427d8c",
   "metadata": {},
   "outputs": [
    {
     "name": "stdout",
     "output_type": "stream",
     "text": [
      "(1, 2, 3, 4, 5, 'Kishore', 23, 5.11)\n"
     ]
    }
   ],
   "source": [
    "## Tuples Operation\n",
    "## Concatenation\n",
    "tpl1 = (1,2,3,4,5)\n",
    "tpl2 = (\"Kishore\",23,5.11)\n",
    "print(tpl+tpl2)"
   ]
  },
  {
   "cell_type": "code",
   "execution_count": 26,
   "id": "75a5a497",
   "metadata": {},
   "outputs": [
    {
     "name": "stdout",
     "output_type": "stream",
     "text": [
      "(1, 2, 3, 1, 2, 3, 1, 2, 3)\n"
     ]
    }
   ],
   "source": [
    "## Tuple Multiplication\n",
    "tpl = (1,2,3)\n",
    "print(tpl*3)"
   ]
  },
  {
   "cell_type": "code",
   "execution_count": 27,
   "id": "ebac4a5c",
   "metadata": {},
   "outputs": [
    {
     "ename": "TypeError",
     "evalue": "'tuple' object does not support item assignment",
     "output_type": "error",
     "traceback": [
      "\u001b[31m---------------------------------------------------------------------------\u001b[39m",
      "\u001b[31mTypeError\u001b[39m                                 Traceback (most recent call last)",
      "\u001b[36mCell\u001b[39m\u001b[36m \u001b[39m\u001b[32mIn[27]\u001b[39m\u001b[32m, line 3\u001b[39m\n\u001b[32m      1\u001b[39m \u001b[38;5;66;03m## Imutable Nature of Tuples\u001b[39;00m\n\u001b[32m      2\u001b[39m tpl = (\u001b[32m1\u001b[39m,\u001b[32m2\u001b[39m,\u001b[32m3\u001b[39m,\u001b[32m4\u001b[39m,\u001b[32m5\u001b[39m)\n\u001b[32m----> \u001b[39m\u001b[32m3\u001b[39m \u001b[43mtpl\u001b[49m\u001b[43m[\u001b[49m\u001b[32;43m1\u001b[39;49m\u001b[43m]\u001b[49m=\u001b[33m\"\u001b[39m\u001b[33mKishroe\u001b[39m\u001b[33m\"\u001b[39m\n",
      "\u001b[31mTypeError\u001b[39m: 'tuple' object does not support item assignment"
     ]
    }
   ],
   "source": [
    "## Imutable Nature of Tuples\n",
    "tpl = (1,2,3,4,5)\n",
    "tpl[1]=\"Kishroe\""
   ]
  },
  {
   "cell_type": "code",
   "execution_count": 28,
   "id": "cdf9c1f8",
   "metadata": {},
   "outputs": [
    {
     "name": "stdout",
     "output_type": "stream",
     "text": [
      "3\n"
     ]
    }
   ],
   "source": [
    "## Tuples Methods\n",
    "## Count\n",
    "tpl = (1,2,3,1,2,1)\n",
    "print(tpl.count(1))"
   ]
  },
  {
   "cell_type": "code",
   "execution_count": 29,
   "id": "384cc90b",
   "metadata": {},
   "outputs": [
    {
     "data": {
      "text/plain": [
       "1"
      ]
     },
     "execution_count": 29,
     "metadata": {},
     "output_type": "execute_result"
    }
   ],
   "source": [
    "## Index\n",
    "tpl.index(2)"
   ]
  },
  {
   "cell_type": "code",
   "execution_count": 30,
   "id": "117ab415",
   "metadata": {},
   "outputs": [
    {
     "name": "stdout",
     "output_type": "stream",
     "text": [
      "('Kishore', 23, 5.11)\n"
     ]
    }
   ],
   "source": [
    "## Packing and Un Packing Tuples\n",
    "## Packing a tuple\n",
    "new_tpl = \"Kishore\",23,5.11\n",
    "print(new_tpl)"
   ]
  },
  {
   "cell_type": "code",
   "execution_count": 31,
   "id": "3d381eec",
   "metadata": {},
   "outputs": [
    {
     "name": "stdout",
     "output_type": "stream",
     "text": [
      "Kishore\n",
      "23\n",
      "5.11\n"
     ]
    }
   ],
   "source": [
    "## Un Packing Tuple\n",
    "name,age,height = new_tpl\n",
    "print(name)\n",
    "print(age)\n",
    "print(height)"
   ]
  },
  {
   "cell_type": "code",
   "execution_count": 33,
   "id": "6c44efdb",
   "metadata": {},
   "outputs": [
    {
     "name": "stdout",
     "output_type": "stream",
     "text": [
      "1\n",
      "[2, 3, 4, 5, 6, 7, 8, 9]\n",
      "10\n"
     ]
    }
   ],
   "source": [
    "## Un Packing with *\n",
    "tpl = (1,2,3,4,5,6,7,8,9,10)\n",
    "a, *b, c = tpl\n",
    "print(a)\n",
    "print(b)\n",
    "print(c)"
   ]
  },
  {
   "cell_type": "code",
   "execution_count": 34,
   "id": "147c66bc",
   "metadata": {},
   "outputs": [
    {
     "name": "stdout",
     "output_type": "stream",
     "text": [
      "((1, 2), (3, 4), (4, 5))\n"
     ]
    }
   ],
   "source": [
    "## Nested Tuples\n",
    "tpl = ((1,2),(3,4),(4,5))\n",
    "print(tpl)"
   ]
  },
  {
   "cell_type": "code",
   "execution_count": 36,
   "id": "ad403fb9",
   "metadata": {},
   "outputs": [
    {
     "name": "stdout",
     "output_type": "stream",
     "text": [
      "Kishore\n"
     ]
    }
   ],
   "source": [
    "## Accessing Nested Tuples Elements\n",
    "tpl = ((1,2,3),(\"a\",\"b\",\"c\"),(\"Kishore\",23,5.11))\n",
    "print(tpl[2][0])"
   ]
  },
  {
   "cell_type": "code",
   "execution_count": 40,
   "id": "906335c0",
   "metadata": {},
   "outputs": [
    {
     "name": "stdout",
     "output_type": "stream",
     "text": [
      "1 2 3 \n",
      "a b c \n",
      "Kishore 23 5.11 \n"
     ]
    }
   ],
   "source": [
    "## Iterating over a Nested Tuples\n",
    "for item in tpl:\n",
    "    for element in item:\n",
    "        print(element,end=\" \")\n",
    "    print()\n"
   ]
  }
 ],
 "metadata": {
  "kernelspec": {
   "display_name": "Python 3",
   "language": "python",
   "name": "python3"
  },
  "language_info": {
   "codemirror_mode": {
    "name": "ipython",
    "version": 3
   },
   "file_extension": ".py",
   "mimetype": "text/x-python",
   "name": "python",
   "nbconvert_exporter": "python",
   "pygments_lexer": "ipython3",
   "version": "3.13.5"
  }
 },
 "nbformat": 4,
 "nbformat_minor": 5
}
