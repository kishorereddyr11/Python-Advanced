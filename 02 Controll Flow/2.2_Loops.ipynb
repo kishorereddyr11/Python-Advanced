{
 "cells": [
  {
   "cell_type": "markdown",
   "id": "96e0e824",
   "metadata": {},
   "source": [
    "##### Loops"
   ]
  },
  {
   "cell_type": "code",
   "execution_count": 15,
   "id": "81a339a9",
   "metadata": {},
   "outputs": [
    {
     "name": "stdout",
     "output_type": "stream",
     "text": [
      "0\n",
      "1\n",
      "2\n",
      "3\n",
      "4\n"
     ]
    }
   ],
   "source": [
    "## for loop with default starting point\n",
    "for i in range(5):\n",
    "    print(i)"
   ]
  },
  {
   "cell_type": "code",
   "execution_count": 16,
   "id": "e2e282e2",
   "metadata": {},
   "outputs": [
    {
     "name": "stdout",
     "output_type": "stream",
     "text": [
      "2\n",
      "3\n",
      "4\n"
     ]
    }
   ],
   "source": [
    "## for loop with custom starting point\n",
    "for i in range(2,5):\n",
    "    print(i)"
   ]
  },
  {
   "cell_type": "code",
   "execution_count": 17,
   "id": "2ad46c9f",
   "metadata": {},
   "outputs": [
    {
     "name": "stdout",
     "output_type": "stream",
     "text": [
      "1\n",
      "3\n",
      "5\n",
      "7\n",
      "9\n"
     ]
    }
   ],
   "source": [
    "## for loop with Jump \n",
    "for i in range(1,11,2):\n",
    "    print(i)"
   ]
  },
  {
   "cell_type": "code",
   "execution_count": 18,
   "id": "6ae1fa09",
   "metadata": {},
   "outputs": [
    {
     "name": "stdout",
     "output_type": "stream",
     "text": [
      "10\n",
      "9\n",
      "8\n",
      "7\n",
      "6\n",
      "5\n",
      "4\n",
      "3\n",
      "2\n",
      "1\n"
     ]
    }
   ],
   "source": [
    "## for loop with backward jump\n",
    "for i in range(10,0,-1):\n",
    "    print(i)"
   ]
  },
  {
   "cell_type": "code",
   "execution_count": 21,
   "id": "73be7dc5",
   "metadata": {},
   "outputs": [
    {
     "name": "stdout",
     "output_type": "stream",
     "text": [
      "K\n",
      "i\n",
      "s\n",
      "h\n",
      "9\n",
      "r\n",
      "e\n",
      " \n",
      "R\n",
      "e\n",
      "d\n",
      "d\n",
      "y\n",
      "Kishore Reddy\n"
     ]
    }
   ],
   "source": [
    "##  Iterate over String\n",
    "str = \"Kishore Reddy\"\n",
    "for i in str:\n",
    "    if i=='o' :\n",
    "        i='9'\n",
    "    print(i)\n",
    "print(str)"
   ]
  },
  {
   "cell_type": "code",
   "execution_count": 24,
   "id": "8b618fa5",
   "metadata": {},
   "outputs": [
    {
     "name": "stdout",
     "output_type": "stream",
     "text": [
      "0\n",
      "1\n",
      "2\n",
      "3\n",
      "4\n"
     ]
    }
   ],
   "source": [
    "## While Loop\n",
    "count = 0\n",
    "while count<5:\n",
    "    print(count)\n",
    "    count = count + 1"
   ]
  },
  {
   "cell_type": "code",
   "execution_count": 25,
   "id": "88158e00",
   "metadata": {},
   "outputs": [
    {
     "name": "stdout",
     "output_type": "stream",
     "text": [
      "0\n",
      "1\n",
      "2\n",
      "3\n",
      "4\n"
     ]
    }
   ],
   "source": [
    "## Loop Controll Statments\n",
    "## Break\n",
    "for i in range(10):\n",
    "    if i==5:\n",
    "        break\n",
    "    print(i)"
   ]
  },
  {
   "cell_type": "code",
   "execution_count": 26,
   "id": "8ea238e8",
   "metadata": {},
   "outputs": [
    {
     "name": "stdout",
     "output_type": "stream",
     "text": [
      "0\n",
      "1\n",
      "2\n",
      "4\n"
     ]
    }
   ],
   "source": [
    "## Continue\n",
    "for i in range(5):\n",
    "    if i==3:\n",
    "        continue\n",
    "    print(i)"
   ]
  },
  {
   "cell_type": "code",
   "execution_count": 27,
   "id": "7b9b1aa0",
   "metadata": {},
   "outputs": [
    {
     "name": "stdout",
     "output_type": "stream",
     "text": [
      "0\n",
      "1\n",
      "2\n",
      "3 is the number\n",
      "3\n",
      "4\n"
     ]
    }
   ],
   "source": [
    "## Pass\n",
    "for i in range(5):\n",
    "    if i==3:\n",
    "        pass\n",
    "        print(f\"{i} is the number\")\n",
    "    print(i)"
   ]
  },
  {
   "cell_type": "code",
   "execution_count": 28,
   "id": "d30ebb83",
   "metadata": {},
   "outputs": [
    {
     "name": "stdout",
     "output_type": "stream",
     "text": [
      "i : 0 and j : 0\n",
      "i : 0 and j : 1\n",
      "i : 0 and j : 2\n",
      "i : 1 and j : 0\n",
      "i : 1 and j : 1\n",
      "i : 1 and j : 2\n",
      "i : 2 and j : 0\n",
      "i : 2 and j : 1\n",
      "i : 2 and j : 2\n"
     ]
    }
   ],
   "source": [
    "## Nested Loops\n",
    "for i in range(3):\n",
    "    for j in range(3):\n",
    "        print(f\"i : {i} and j : {j}\")"
   ]
  },
  {
   "cell_type": "code",
   "execution_count": 30,
   "id": "8cdb072e",
   "metadata": {},
   "outputs": [
    {
     "name": "stdout",
     "output_type": "stream",
     "text": [
      "sum of 10 natural numbers is 55\n"
     ]
    }
   ],
   "source": [
    "## Caluclate the sum of first n natural number using For loop\n",
    "n = 10\n",
    "sum = 0\n",
    "for i in range(n+1):\n",
    "    sum+=i\n",
    "print(f\"sum of {n} natural numbers is {sum}\")"
   ]
  },
  {
   "cell_type": "code",
   "execution_count": 32,
   "id": "ff97d0c5",
   "metadata": {},
   "outputs": [
    {
     "name": "stdout",
     "output_type": "stream",
     "text": [
      "sum of 10 natural numbers is 55\n"
     ]
    }
   ],
   "source": [
    "## Caluclate the sum of first n natural number using While loop\n",
    "n = 10\n",
    "sum = 0\n",
    "i = 0\n",
    "while i<=10:\n",
    "    sum+=i\n",
    "    i +=1\n",
    "print(f\"sum of {n} natural numbers is {sum}\")\n",
    "    "
   ]
  },
  {
   "cell_type": "code",
   "execution_count": 34,
   "id": "6cb98468",
   "metadata": {},
   "outputs": [
    {
     "name": "stdout",
     "output_type": "stream",
     "text": [
      "2\n",
      "3\n",
      "4\n",
      "5\n",
      "7\n",
      "11\n",
      "13\n",
      "17\n",
      "19\n",
      "23\n",
      "29\n",
      "31\n",
      "37\n",
      "41\n",
      "43\n",
      "47\n",
      "53\n",
      "59\n",
      "61\n",
      "67\n",
      "71\n",
      "73\n",
      "79\n",
      "83\n",
      "89\n",
      "97\n"
     ]
    }
   ],
   "source": [
    "## Prime Numbers Between 1 and 100\n",
    "for i in range(101):\n",
    "    if i>1 :\n",
    "        for j in range(2,i//2):\n",
    "            if i%j==0:\n",
    "                break\n",
    "        else :\n",
    "            print(i)"
   ]
  }
 ],
 "metadata": {
  "kernelspec": {
   "display_name": "Python 3",
   "language": "python",
   "name": "python3"
  },
  "language_info": {
   "codemirror_mode": {
    "name": "ipython",
    "version": 3
   },
   "file_extension": ".py",
   "mimetype": "text/x-python",
   "name": "python",
   "nbconvert_exporter": "python",
   "pygments_lexer": "ipython3",
   "version": "3.13.5"
  }
 },
 "nbformat": 4,
 "nbformat_minor": 5
}
