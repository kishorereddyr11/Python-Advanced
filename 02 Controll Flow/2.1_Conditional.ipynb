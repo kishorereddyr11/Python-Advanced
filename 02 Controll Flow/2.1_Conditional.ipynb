{
 "cells": [
  {
   "cell_type": "markdown",
   "id": "9a1f0132",
   "metadata": {},
   "source": [
    "#### Conditional Statements"
   ]
  },
  {
   "cell_type": "code",
   "execution_count": 7,
   "id": "977a3af7",
   "metadata": {},
   "outputs": [
    {
     "name": "stdout",
     "output_type": "stream",
     "text": [
      "Your are elegible for voting\n"
     ]
    }
   ],
   "source": [
    "## if Statement\n",
    "age = 18\n",
    "\n",
    "if age>=18:\n",
    "    print(\"Your are elegible for voting\")"
   ]
  },
  {
   "cell_type": "code",
   "execution_count": 9,
   "id": "5cdf0508",
   "metadata": {},
   "outputs": [
    {
     "name": "stdout",
     "output_type": "stream",
     "text": [
      "Your not elegible for voting\n"
     ]
    }
   ],
   "source": [
    "## else Statement\n",
    "age = 17\n",
    "\n",
    "if age>=18:\n",
    "    print(\"Your are elegible for voting\")\n",
    "else :\n",
    "    print(\"Your not elegible for voting\")"
   ]
  },
  {
   "cell_type": "code",
   "execution_count": 11,
   "id": "b18e3da5",
   "metadata": {},
   "outputs": [
    {
     "name": "stdout",
     "output_type": "stream",
     "text": [
      "Boy is a Child\n"
     ]
    }
   ],
   "source": [
    "## elif Statemen\n",
    "age = 12\n",
    "\n",
    "if age<13 :\n",
    "    print(\"Boy is a Child\")\n",
    "elif age<18 :\n",
    "    print(\"Boy is an Adult\")\n",
    "else :\n",
    "    print(\"Boy is Teen\")    "
   ]
  },
  {
   "cell_type": "code",
   "execution_count": 12,
   "id": "a3a67917",
   "metadata": {},
   "outputs": [
    {
     "name": "stdout",
     "output_type": "stream",
     "text": [
      "5 is Odd\n"
     ]
    }
   ],
   "source": [
    "## Nested Conditional Statement\n",
    "## number even,odd,negetive\n",
    "num = int(input(\"Enter the number : \"))\n",
    "\n",
    "if num>0:\n",
    "    if num%2==0 :\n",
    "        print(f\"{num} is Even\")\n",
    "    else :\n",
    "        print(f\"{num} is Odd\")\n",
    "else :\n",
    "    print(f\"{num} is Zero Or Negetive\")"
   ]
  },
  {
   "cell_type": "code",
   "execution_count": 15,
   "id": "715b3117",
   "metadata": {},
   "outputs": [
    {
     "name": "stdout",
     "output_type": "stream",
     "text": [
      "2024 is leap year\n"
     ]
    }
   ],
   "source": [
    "## Determine if a year is leap year or not\n",
    "year = int(input(\"Enter the year : \"))\n",
    "\n",
    "if (year%4==0 and year%100!=0) or (year%400==0) :\n",
    "    print(f\"{year} is leap year\")\n",
    "else:\n",
    "    print(f\"{year} is not learp year\")"
   ]
  }
 ],
 "metadata": {
  "kernelspec": {
   "display_name": "Python 3",
   "language": "python",
   "name": "python3"
  },
  "language_info": {
   "codemirror_mode": {
    "name": "ipython",
    "version": 3
   },
   "file_extension": ".py",
   "mimetype": "text/x-python",
   "name": "python",
   "nbconvert_exporter": "python",
   "pygments_lexer": "ipython3",
   "version": "3.13.5"
  }
 },
 "nbformat": 4,
 "nbformat_minor": 5
}
