{
 "cells": [
  {
   "cell_type": "markdown",
   "id": "de1cdb8b",
   "metadata": {},
   "source": [
    "##### Standard Library Overview"
   ]
  },
  {
   "cell_type": "code",
   "execution_count": 14,
   "id": "6b406f25",
   "metadata": {},
   "outputs": [
    {
     "name": "stdout",
     "output_type": "stream",
     "text": [
      "array('i', [1, 2, 3, 4, 5, 6])\n"
     ]
    }
   ],
   "source": [
    "## Array Library\n",
    "from array import array\n",
    "print(array('i',[1,2,3,4,5,6]))"
   ]
  },
  {
   "cell_type": "code",
   "execution_count": 15,
   "id": "38d6ac0c",
   "metadata": {},
   "outputs": [
    {
     "name": "stdout",
     "output_type": "stream",
     "text": [
      "8.0\n",
      "3.141592653589793\n"
     ]
    }
   ],
   "source": [
    "## Math Library\n",
    "from math import *\n",
    "print(sqrt(64))\n",
    "print(pi)"
   ]
  },
  {
   "cell_type": "code",
   "execution_count": 11,
   "id": "7aefc424",
   "metadata": {},
   "outputs": [
    {
     "name": "stdout",
     "output_type": "stream",
     "text": [
      "126\n"
     ]
    }
   ],
   "source": [
    "## Random Library\n",
    "## randint()\n",
    "import random\n",
    "print(random.randint(1,234))"
   ]
  },
  {
   "cell_type": "code",
   "execution_count": 13,
   "id": "1fcf487f",
   "metadata": {},
   "outputs": [
    {
     "name": "stdout",
     "output_type": "stream",
     "text": [
      "banana\n"
     ]
    }
   ],
   "source": [
    "## choice()\n",
    "print(random.choice([\"apple\",\"banana\",\"grapes\",\"orange\"]))"
   ]
  },
  {
   "cell_type": "code",
   "execution_count": 9,
   "id": "730e2a05",
   "metadata": {},
   "outputs": [
    {
     "data": {
      "text/plain": [
       "'c:\\\\Users\\\\kisho\\\\OneDrive\\\\Desktop\\\\Advanced Python\\\\05 Modules'"
      ]
     },
     "execution_count": 9,
     "metadata": {},
     "output_type": "execute_result"
    }
   ],
   "source": [
    "## Operating System Library\n",
    "## getcwd()\n",
    "import os\n",
    "os.getcwd()"
   ]
  },
  {
   "cell_type": "code",
   "execution_count": null,
   "id": "f02e4c1e",
   "metadata": {},
   "outputs": [],
   "source": [
    "## mkdir()\n",
    "os.mkdir(\"dummy\")"
   ]
  },
  {
   "cell_type": "code",
   "execution_count": 8,
   "id": "5ed0ee0f",
   "metadata": {},
   "outputs": [
    {
     "data": {
      "text/plain": [
       "'destination.txt'"
      ]
     },
     "execution_count": 8,
     "metadata": {},
     "output_type": "execute_result"
    }
   ],
   "source": [
    "## High level operations on files and collection of files\n",
    "## import shutil\n",
    "import shutil \n",
    "shutil.copyfile(\"source.txt\",\"destination.txt\")"
   ]
  },
  {
   "cell_type": "code",
   "execution_count": null,
   "id": "489ae5be",
   "metadata": {},
   "outputs": [
    {
     "name": "stdout",
     "output_type": "stream",
     "text": [
      "{\"name\": \"Kishore\", \"age\": 34}\n",
      "<class 'str'>\n"
     ]
    }
   ],
   "source": [
    "## Data Serialization\n",
    "## For converting a Dictionary into String\n",
    "import json\n",
    "data = {\"name\":\"Kishore\",\"age\":34}\n",
    "json_str=json.dumps(data)\n",
    "print(json_str)\n",
    "print(type(json_str))"
   ]
  },
  {
   "cell_type": "code",
   "execution_count": 17,
   "id": "a28c27d9",
   "metadata": {},
   "outputs": [
    {
     "name": "stdout",
     "output_type": "stream",
     "text": [
      "{'name': 'Kishore', 'age': 34}\n",
      "<class 'dict'>\n"
     ]
    }
   ],
   "source": [
    "## converting a json string into a dictionary\n",
    "parsed_data = json.loads(json_str)\n",
    "print(parsed_data)\n",
    "print(type(parsed_data))"
   ]
  },
  {
   "cell_type": "code",
   "execution_count": 22,
   "id": "841aa8f1",
   "metadata": {},
   "outputs": [
    {
     "name": "stdout",
     "output_type": "stream",
     "text": [
      "['Name', 'Age']\n",
      "['Kishore', '43']\n"
     ]
    }
   ],
   "source": [
    "## CSV\n",
    "import csv\n",
    "with open(\"example.csv\",mode = \"w\",newline=\"\") as file:\n",
    "    writer = csv.writer(file)\n",
    "    writer.writerow([\"Name\",\"Age\"])\n",
    "    writer.writerow([\"Kishore\",43])\n",
    "with open(\"example.csv\",mode='r') as file:\n",
    "    reader = csv.reader(file)\n",
    "    for row in reader:\n",
    "        print(row)\n"
   ]
  },
  {
   "cell_type": "code",
   "execution_count": 24,
   "id": "06ea7f93",
   "metadata": {},
   "outputs": [
    {
     "name": "stdout",
     "output_type": "stream",
     "text": [
      "2025-07-19 16:49:06.505032\n",
      "2025-07-18 16:49:06.505032\n"
     ]
    }
   ],
   "source": [
    "## Date Time\n",
    "from datetime import datetime,timedelta\n",
    "now=datetime.now()\n",
    "print(now)\n",
    "\n",
    "yesterday = now - timedelta(days=1)\n",
    "print(yesterday)"
   ]
  },
  {
   "cell_type": "code",
   "execution_count": 27,
   "id": "68dd56b5",
   "metadata": {},
   "outputs": [
    {
     "name": "stdout",
     "output_type": "stream",
     "text": [
      "124\n"
     ]
    },
    {
     "name": "stderr",
     "output_type": "stream",
     "text": [
      "<>:4: SyntaxWarning: invalid escape sequence '\\d'\n",
      "<>:4: SyntaxWarning: invalid escape sequence '\\d'\n",
      "C:\\Users\\kisho\\AppData\\Local\\Temp\\ipykernel_23076\\3882132633.py:4: SyntaxWarning: invalid escape sequence '\\d'\n",
      "  pattern = \"\\d+\"\n"
     ]
    }
   ],
   "source": [
    "## Regurlar Expression\n",
    "import re\n",
    "\n",
    "pattern = \"\\d+\"\n",
    "text = \"There are 124 apples\"\n",
    "match  = re.search(pattern,text)\n",
    "print(match.group())"
   ]
  }
 ],
 "metadata": {
  "kernelspec": {
   "display_name": "Python 3",
   "language": "python",
   "name": "python3"
  },
  "language_info": {
   "codemirror_mode": {
    "name": "ipython",
    "version": 3
   },
   "file_extension": ".py",
   "mimetype": "text/x-python",
   "name": "python",
   "nbconvert_exporter": "python",
   "pygments_lexer": "ipython3",
   "version": "3.13.5"
  }
 },
 "nbformat": 4,
 "nbformat_minor": 5
}
