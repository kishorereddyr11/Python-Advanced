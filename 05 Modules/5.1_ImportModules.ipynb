{
 "cells": [
  {
   "cell_type": "markdown",
   "id": "0e6c2dcd",
   "metadata": {},
   "source": [
    "##### Import Modules And Packages In Python"
   ]
  },
  {
   "cell_type": "code",
   "execution_count": 3,
   "id": "85d6024e",
   "metadata": {},
   "outputs": [
    {
     "name": "stdout",
     "output_type": "stream",
     "text": [
      "2.0\n",
      "4\n"
     ]
    }
   ],
   "source": [
    "## How to import Modules\n",
    "## Math Package\n",
    "import math\n",
    "print(math.sqrt(4))\n",
    "print(int(math.sqrt(16)))"
   ]
  },
  {
   "cell_type": "code",
   "execution_count": 5,
   "id": "9af3b15d",
   "metadata": {},
   "outputs": [
    {
     "name": "stdout",
     "output_type": "stream",
     "text": [
      "2.0\n",
      "3.141592653589793\n"
     ]
    }
   ],
   "source": [
    "## Another way to import Module\n",
    "from math import sqrt,pi\n",
    "print(sqrt(4))\n",
    "print(pi)"
   ]
  },
  {
   "cell_type": "code",
   "execution_count": 6,
   "id": "0f93aaf4",
   "metadata": {},
   "outputs": [
    {
     "data": {
      "text/plain": [
       "array([1, 2, 3, 4, 5, 6])"
      ]
     },
     "execution_count": 6,
     "metadata": {},
     "output_type": "execute_result"
    }
   ],
   "source": [
    "## Import Numpy Package\n",
    "import numpy as np\n",
    "np.array([1,2,3,4,5,6])"
   ]
  },
  {
   "cell_type": "code",
   "execution_count": 7,
   "id": "2baab142",
   "metadata": {},
   "outputs": [
    {
     "name": "stdout",
     "output_type": "stream",
     "text": [
      "23.108440016582687\n",
      "3.141592653589793\n"
     ]
    }
   ],
   "source": [
    "## Import all functions present in a module\n",
    "from math import *\n",
    "print(sqrt(534))\n",
    "print(pi)"
   ]
  },
  {
   "cell_type": "code",
   "execution_count": 8,
   "id": "93815505",
   "metadata": {},
   "outputs": [
    {
     "data": {
      "text/plain": [
       "8"
      ]
     },
     "execution_count": 8,
     "metadata": {},
     "output_type": "execute_result"
    }
   ],
   "source": [
    "## Import custom packages\n",
    "from package.maths import addition\n",
    "addition(3,5)"
   ]
  },
  {
   "cell_type": "code",
   "execution_count": 11,
   "id": "0e1626e9",
   "metadata": {},
   "outputs": [
    {
     "data": {
      "text/plain": [
       "28"
      ]
     },
     "execution_count": 11,
     "metadata": {},
     "output_type": "execute_result"
    }
   ],
   "source": [
    "## Another way to import custom module\n",
    "from package import maths\n",
    "maths.addition(23,5)"
   ]
  },
  {
   "cell_type": "code",
   "execution_count": null,
   "id": "5846532c",
   "metadata": {},
   "outputs": [
    {
     "data": {
      "text/plain": [
       "39"
      ]
     },
     "execution_count": 12,
     "metadata": {},
     "output_type": "execute_result"
    }
   ],
   "source": [
    "## Another Way\n",
    "import package.maths\n",
    "maths.addition(34,5)"
   ]
  },
  {
   "cell_type": "code",
   "execution_count": null,
   "id": "86ce6912",
   "metadata": {},
   "outputs": [
    {
     "data": {
      "text/plain": [
       "15"
      ]
     },
     "execution_count": 13,
     "metadata": {},
     "output_type": "execute_result"
    }
   ],
   "source": [
    "## import the module in subpackage\n",
    "from package.subpackage.product import product\n",
    "product(3,5)"
   ]
  }
 ],
 "metadata": {
  "kernelspec": {
   "display_name": "Python 3",
   "language": "python",
   "name": "python3"
  },
  "language_info": {
   "codemirror_mode": {
    "name": "ipython",
    "version": 3
   },
   "file_extension": ".py",
   "mimetype": "text/x-python",
   "name": "python",
   "nbconvert_exporter": "python",
   "pygments_lexer": "ipython3",
   "version": "3.13.5"
  }
 },
 "nbformat": 4,
 "nbformat_minor": 5
}
